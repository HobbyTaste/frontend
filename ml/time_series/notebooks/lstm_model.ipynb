{
  "nbformat": 4,
  "nbformat_minor": 0,
  "metadata": {
    "colab": {
      "name": "lstm_model.ipynb",
      "provenance": [],
      "collapsed_sections": []
    },
    "kernelspec": {
      "name": "python3",
      "display_name": "Python 3"
    },
    "accelerator": "GPU"
  },
  "cells": [
    {
      "cell_type": "code",
      "metadata": {
        "id": "7hrFPdLnIUc_",
        "colab_type": "code",
        "colab": {}
      },
      "source": [
        "import seaborn as sns\n",
        "import matplotlib.pyplot as plt\n",
        "import numpy as np\n",
        "import pandas as pd\n",
        "import torch\n",
        "import torch.nn as nn\n",
        "\n",
        "\n",
        "from lstm_model import SimpleLSTM\n",
        "from optimization import Optimization\n",
        "from sklearn.preprocessing import StandardScaler\n",
        "\n",
        "sns.set(font_scale=1.3)\n",
        "%matplotlib inline"
      ],
      "execution_count": 0,
      "outputs": []
    },
    {
      "cell_type": "code",
      "metadata": {
        "id": "S4h11SCqIcHV",
        "colab_type": "code",
        "outputId": "b5c445c4-9cce-4b7a-a35a-36dd852ad86e",
        "colab": {
          "base_uri": "https://localhost:8080/",
          "height": 34
        }
      },
      "source": [
        "from google.colab import drive\n",
        "drive.mount('/content/drive')"
      ],
      "execution_count": 111,
      "outputs": [
        {
          "output_type": "stream",
          "text": [
            "Drive already mounted at /content/drive; to attempt to forcibly remount, call drive.mount(\"/content/drive\", force_remount=True).\n"
          ],
          "name": "stdout"
        }
      ]
    },
    {
      "cell_type": "code",
      "metadata": {
        "id": "X87aAs1CIcaU",
        "colab_type": "code",
        "colab": {}
      },
      "source": [
        "NASDAQ_DATA_PATH = \"/content/drive/My Drive/HobbyTaste/data/nasdaq100_padding.csv\""
      ],
      "execution_count": 0,
      "outputs": []
    },
    {
      "cell_type": "code",
      "metadata": {
        "id": "G-XYXPTkIcjD",
        "colab_type": "code",
        "outputId": "918ed465-20ee-476b-b7ba-35be93fadbeb",
        "colab": {
          "base_uri": "https://localhost:8080/",
          "height": 253
        }
      },
      "source": [
        "data_nasdaq = pd.read_csv(NASDAQ_DATA_PATH)\n",
        "data_nasdaq.head()"
      ],
      "execution_count": 113,
      "outputs": [
        {
          "output_type": "execute_result",
          "data": {
            "text/html": [
              "<div>\n",
              "<style scoped>\n",
              "    .dataframe tbody tr th:only-of-type {\n",
              "        vertical-align: middle;\n",
              "    }\n",
              "\n",
              "    .dataframe tbody tr th {\n",
              "        vertical-align: top;\n",
              "    }\n",
              "\n",
              "    .dataframe thead th {\n",
              "        text-align: right;\n",
              "    }\n",
              "</style>\n",
              "<table border=\"1\" class=\"dataframe\">\n",
              "  <thead>\n",
              "    <tr style=\"text-align: right;\">\n",
              "      <th></th>\n",
              "      <th>AAL</th>\n",
              "      <th>AAPL</th>\n",
              "      <th>ADBE</th>\n",
              "      <th>ADI</th>\n",
              "      <th>ADP</th>\n",
              "      <th>ADSK</th>\n",
              "      <th>AKAM</th>\n",
              "      <th>ALXN</th>\n",
              "      <th>AMAT</th>\n",
              "      <th>AMGN</th>\n",
              "      <th>AMZN</th>\n",
              "      <th>ATVI</th>\n",
              "      <th>AVGO</th>\n",
              "      <th>BBBY</th>\n",
              "      <th>BIDU</th>\n",
              "      <th>BIIB</th>\n",
              "      <th>CA</th>\n",
              "      <th>CELG</th>\n",
              "      <th>CERN</th>\n",
              "      <th>CMCSA</th>\n",
              "      <th>COST</th>\n",
              "      <th>CSCO</th>\n",
              "      <th>CSX</th>\n",
              "      <th>CTRP</th>\n",
              "      <th>CTSH</th>\n",
              "      <th>DISCA</th>\n",
              "      <th>DISH</th>\n",
              "      <th>DLTR</th>\n",
              "      <th>EA</th>\n",
              "      <th>EBAY</th>\n",
              "      <th>ESRX</th>\n",
              "      <th>EXPE</th>\n",
              "      <th>FAST</th>\n",
              "      <th>FB</th>\n",
              "      <th>FOX</th>\n",
              "      <th>FOXA</th>\n",
              "      <th>GILD</th>\n",
              "      <th>GOOGL</th>\n",
              "      <th>INTC</th>\n",
              "      <th>JD</th>\n",
              "      <th>...</th>\n",
              "      <th>LBTYK</th>\n",
              "      <th>LRCX</th>\n",
              "      <th>MAR</th>\n",
              "      <th>MAT</th>\n",
              "      <th>MCHP</th>\n",
              "      <th>MDLZ</th>\n",
              "      <th>MSFT</th>\n",
              "      <th>MU</th>\n",
              "      <th>MXIM</th>\n",
              "      <th>MYL</th>\n",
              "      <th>NCLH</th>\n",
              "      <th>NFLX</th>\n",
              "      <th>NTAP</th>\n",
              "      <th>NVDA</th>\n",
              "      <th>NXPI</th>\n",
              "      <th>PAYX</th>\n",
              "      <th>PCAR</th>\n",
              "      <th>PYPL</th>\n",
              "      <th>QCOM</th>\n",
              "      <th>QVCA</th>\n",
              "      <th>ROST</th>\n",
              "      <th>SBUX</th>\n",
              "      <th>SIRI</th>\n",
              "      <th>STX</th>\n",
              "      <th>SWKS</th>\n",
              "      <th>SYMC</th>\n",
              "      <th>TMUS</th>\n",
              "      <th>TRIP</th>\n",
              "      <th>TSCO</th>\n",
              "      <th>TSLA</th>\n",
              "      <th>TXN</th>\n",
              "      <th>VIAB</th>\n",
              "      <th>VOD</th>\n",
              "      <th>VRTX</th>\n",
              "      <th>WBA</th>\n",
              "      <th>WDC</th>\n",
              "      <th>WFM</th>\n",
              "      <th>XLNX</th>\n",
              "      <th>YHOO</th>\n",
              "      <th>NDX</th>\n",
              "    </tr>\n",
              "  </thead>\n",
              "  <tbody>\n",
              "    <tr>\n",
              "      <th>0</th>\n",
              "      <td>35.9800</td>\n",
              "      <td>96.80</td>\n",
              "      <td>97.80</td>\n",
              "      <td>61.15</td>\n",
              "      <td>95.4000</td>\n",
              "      <td>58.180000</td>\n",
              "      <td>58.00</td>\n",
              "      <td>127.040</td>\n",
              "      <td>26.680</td>\n",
              "      <td>165.8100</td>\n",
              "      <td>742.12</td>\n",
              "      <td>42.30</td>\n",
              "      <td>161.41</td>\n",
              "      <td>44.21</td>\n",
              "      <td>159.89</td>\n",
              "      <td>286.32</td>\n",
              "      <td>34.57</td>\n",
              "      <td>106.0500</td>\n",
              "      <td>62.070000</td>\n",
              "      <td>67.34</td>\n",
              "      <td>167.60</td>\n",
              "      <td>30.790</td>\n",
              "      <td>28.3700</td>\n",
              "      <td>43.52</td>\n",
              "      <td>58.40</td>\n",
              "      <td>25.42</td>\n",
              "      <td>52.440000</td>\n",
              "      <td>96.55</td>\n",
              "      <td>76.95</td>\n",
              "      <td>30.60</td>\n",
              "      <td>76.54</td>\n",
              "      <td>117.88</td>\n",
              "      <td>41.990</td>\n",
              "      <td>121.940</td>\n",
              "      <td>27.50</td>\n",
              "      <td>26.86</td>\n",
              "      <td>84.00</td>\n",
              "      <td>756.5700</td>\n",
              "      <td>34.7700</td>\n",
              "      <td>21.8000</td>\n",
              "      <td>...</td>\n",
              "      <td>30.21</td>\n",
              "      <td>91.24</td>\n",
              "      <td>71.1100</td>\n",
              "      <td>32.78</td>\n",
              "      <td>54.78</td>\n",
              "      <td>45.690</td>\n",
              "      <td>56.515</td>\n",
              "      <td>14.0000</td>\n",
              "      <td>39.20</td>\n",
              "      <td>47.130</td>\n",
              "      <td>41.900</td>\n",
              "      <td>91.00</td>\n",
              "      <td>26.4400</td>\n",
              "      <td>56.1984</td>\n",
              "      <td>85.2300</td>\n",
              "      <td>60.740</td>\n",
              "      <td>56.170</td>\n",
              "      <td>37.7700</td>\n",
              "      <td>60.95</td>\n",
              "      <td>26.74</td>\n",
              "      <td>61.13</td>\n",
              "      <td>58.579</td>\n",
              "      <td>4.280</td>\n",
              "      <td>31.350</td>\n",
              "      <td>65.36</td>\n",
              "      <td>20.37</td>\n",
              "      <td>44.950</td>\n",
              "      <td>70.0500</td>\n",
              "      <td>91.41</td>\n",
              "      <td>227.6500</td>\n",
              "      <td>70.73</td>\n",
              "      <td>45.230</td>\n",
              "      <td>31.1701</td>\n",
              "      <td>95.270</td>\n",
              "      <td>81.365</td>\n",
              "      <td>52.16</td>\n",
              "      <td>33.95</td>\n",
              "      <td>48.61</td>\n",
              "      <td>38.010</td>\n",
              "      <td>4665.054</td>\n",
              "    </tr>\n",
              "    <tr>\n",
              "      <th>1</th>\n",
              "      <td>35.9310</td>\n",
              "      <td>96.89</td>\n",
              "      <td>97.80</td>\n",
              "      <td>61.61</td>\n",
              "      <td>95.4115</td>\n",
              "      <td>58.190000</td>\n",
              "      <td>58.12</td>\n",
              "      <td>126.060</td>\n",
              "      <td>26.730</td>\n",
              "      <td>165.9101</td>\n",
              "      <td>741.92</td>\n",
              "      <td>42.44</td>\n",
              "      <td>161.83</td>\n",
              "      <td>44.09</td>\n",
              "      <td>160.13</td>\n",
              "      <td>286.81</td>\n",
              "      <td>34.58</td>\n",
              "      <td>105.5450</td>\n",
              "      <td>61.930000</td>\n",
              "      <td>67.30</td>\n",
              "      <td>167.82</td>\n",
              "      <td>30.840</td>\n",
              "      <td>28.4625</td>\n",
              "      <td>43.52</td>\n",
              "      <td>58.33</td>\n",
              "      <td>25.41</td>\n",
              "      <td>52.110000</td>\n",
              "      <td>96.82</td>\n",
              "      <td>77.07</td>\n",
              "      <td>30.74</td>\n",
              "      <td>76.44</td>\n",
              "      <td>117.99</td>\n",
              "      <td>41.900</td>\n",
              "      <td>121.745</td>\n",
              "      <td>27.48</td>\n",
              "      <td>26.87</td>\n",
              "      <td>83.97</td>\n",
              "      <td>756.1600</td>\n",
              "      <td>34.9200</td>\n",
              "      <td>21.8500</td>\n",
              "      <td>...</td>\n",
              "      <td>30.43</td>\n",
              "      <td>91.33</td>\n",
              "      <td>70.8500</td>\n",
              "      <td>32.79</td>\n",
              "      <td>54.89</td>\n",
              "      <td>45.730</td>\n",
              "      <td>56.720</td>\n",
              "      <td>14.0000</td>\n",
              "      <td>39.37</td>\n",
              "      <td>47.150</td>\n",
              "      <td>41.810</td>\n",
              "      <td>91.16</td>\n",
              "      <td>26.4500</td>\n",
              "      <td>56.4150</td>\n",
              "      <td>86.1750</td>\n",
              "      <td>60.935</td>\n",
              "      <td>56.850</td>\n",
              "      <td>37.7400</td>\n",
              "      <td>60.92</td>\n",
              "      <td>26.72</td>\n",
              "      <td>61.43</td>\n",
              "      <td>58.480</td>\n",
              "      <td>4.270</td>\n",
              "      <td>31.010</td>\n",
              "      <td>65.25</td>\n",
              "      <td>20.41</td>\n",
              "      <td>44.975</td>\n",
              "      <td>70.2300</td>\n",
              "      <td>91.05</td>\n",
              "      <td>227.0967</td>\n",
              "      <td>70.69</td>\n",
              "      <td>45.010</td>\n",
              "      <td>31.1900</td>\n",
              "      <td>94.170</td>\n",
              "      <td>81.540</td>\n",
              "      <td>52.15</td>\n",
              "      <td>34.10</td>\n",
              "      <td>48.74</td>\n",
              "      <td>38.140</td>\n",
              "      <td>4665.054</td>\n",
              "    </tr>\n",
              "    <tr>\n",
              "      <th>2</th>\n",
              "      <td>35.9044</td>\n",
              "      <td>96.95</td>\n",
              "      <td>97.57</td>\n",
              "      <td>61.98</td>\n",
              "      <td>95.5100</td>\n",
              "      <td>58.203333</td>\n",
              "      <td>57.95</td>\n",
              "      <td>126.510</td>\n",
              "      <td>26.712</td>\n",
              "      <td>166.1800</td>\n",
              "      <td>739.60</td>\n",
              "      <td>42.46</td>\n",
              "      <td>162.50</td>\n",
              "      <td>43.86</td>\n",
              "      <td>160.00</td>\n",
              "      <td>286.13</td>\n",
              "      <td>34.59</td>\n",
              "      <td>106.5787</td>\n",
              "      <td>61.916667</td>\n",
              "      <td>67.23</td>\n",
              "      <td>167.96</td>\n",
              "      <td>30.880</td>\n",
              "      <td>28.3900</td>\n",
              "      <td>43.54</td>\n",
              "      <td>58.34</td>\n",
              "      <td>25.38</td>\n",
              "      <td>52.106667</td>\n",
              "      <td>96.89</td>\n",
              "      <td>77.25</td>\n",
              "      <td>30.80</td>\n",
              "      <td>76.09</td>\n",
              "      <td>118.63</td>\n",
              "      <td>41.735</td>\n",
              "      <td>121.452</td>\n",
              "      <td>27.41</td>\n",
              "      <td>26.82</td>\n",
              "      <td>84.00</td>\n",
              "      <td>755.6200</td>\n",
              "      <td>34.9192</td>\n",
              "      <td>21.7700</td>\n",
              "      <td>...</td>\n",
              "      <td>30.17</td>\n",
              "      <td>91.37</td>\n",
              "      <td>70.7800</td>\n",
              "      <td>32.83</td>\n",
              "      <td>55.14</td>\n",
              "      <td>45.800</td>\n",
              "      <td>56.700</td>\n",
              "      <td>14.0056</td>\n",
              "      <td>39.38</td>\n",
              "      <td>47.130</td>\n",
              "      <td>41.865</td>\n",
              "      <td>91.36</td>\n",
              "      <td>26.3900</td>\n",
              "      <td>56.4900</td>\n",
              "      <td>85.6801</td>\n",
              "      <td>61.000</td>\n",
              "      <td>57.500</td>\n",
              "      <td>37.7117</td>\n",
              "      <td>61.03</td>\n",
              "      <td>26.66</td>\n",
              "      <td>61.55</td>\n",
              "      <td>58.510</td>\n",
              "      <td>4.285</td>\n",
              "      <td>31.195</td>\n",
              "      <td>65.41</td>\n",
              "      <td>20.39</td>\n",
              "      <td>44.810</td>\n",
              "      <td>70.0925</td>\n",
              "      <td>91.18</td>\n",
              "      <td>226.6300</td>\n",
              "      <td>71.30</td>\n",
              "      <td>45.015</td>\n",
              "      <td>31.2100</td>\n",
              "      <td>94.749</td>\n",
              "      <td>81.530</td>\n",
              "      <td>52.27</td>\n",
              "      <td>34.01</td>\n",
              "      <td>48.99</td>\n",
              "      <td>38.150</td>\n",
              "      <td>4665.826</td>\n",
              "    </tr>\n",
              "    <tr>\n",
              "      <th>3</th>\n",
              "      <td>35.8900</td>\n",
              "      <td>96.97</td>\n",
              "      <td>97.55</td>\n",
              "      <td>62.09</td>\n",
              "      <td>95.5200</td>\n",
              "      <td>58.216667</td>\n",
              "      <td>57.96</td>\n",
              "      <td>126.280</td>\n",
              "      <td>26.740</td>\n",
              "      <td>166.1480</td>\n",
              "      <td>739.55</td>\n",
              "      <td>42.52</td>\n",
              "      <td>162.68</td>\n",
              "      <td>43.80</td>\n",
              "      <td>160.12</td>\n",
              "      <td>286.80</td>\n",
              "      <td>34.61</td>\n",
              "      <td>106.3500</td>\n",
              "      <td>61.903333</td>\n",
              "      <td>67.38</td>\n",
              "      <td>167.85</td>\n",
              "      <td>30.890</td>\n",
              "      <td>28.3900</td>\n",
              "      <td>43.55</td>\n",
              "      <td>58.54</td>\n",
              "      <td>25.37</td>\n",
              "      <td>52.103333</td>\n",
              "      <td>96.76</td>\n",
              "      <td>76.96</td>\n",
              "      <td>30.86</td>\n",
              "      <td>75.65</td>\n",
              "      <td>118.57</td>\n",
              "      <td>41.710</td>\n",
              "      <td>121.450</td>\n",
              "      <td>27.42</td>\n",
              "      <td>26.87</td>\n",
              "      <td>83.34</td>\n",
              "      <td>756.3599</td>\n",
              "      <td>34.9510</td>\n",
              "      <td>21.8100</td>\n",
              "      <td>...</td>\n",
              "      <td>30.10</td>\n",
              "      <td>91.42</td>\n",
              "      <td>70.8750</td>\n",
              "      <td>32.86</td>\n",
              "      <td>55.31</td>\n",
              "      <td>45.790</td>\n",
              "      <td>56.690</td>\n",
              "      <td>14.0573</td>\n",
              "      <td>39.42</td>\n",
              "      <td>47.115</td>\n",
              "      <td>41.920</td>\n",
              "      <td>92.28</td>\n",
              "      <td>26.3955</td>\n",
              "      <td>56.5335</td>\n",
              "      <td>85.6650</td>\n",
              "      <td>61.008</td>\n",
              "      <td>57.750</td>\n",
              "      <td>37.8250</td>\n",
              "      <td>61.13</td>\n",
              "      <td>26.73</td>\n",
              "      <td>61.50</td>\n",
              "      <td>58.470</td>\n",
              "      <td>4.280</td>\n",
              "      <td>31.140</td>\n",
              "      <td>65.24</td>\n",
              "      <td>20.37</td>\n",
              "      <td>44.690</td>\n",
              "      <td>69.9550</td>\n",
              "      <td>91.28</td>\n",
              "      <td>227.5300</td>\n",
              "      <td>71.31</td>\n",
              "      <td>45.020</td>\n",
              "      <td>31.2100</td>\n",
              "      <td>94.310</td>\n",
              "      <td>81.710</td>\n",
              "      <td>52.30</td>\n",
              "      <td>33.96</td>\n",
              "      <td>48.95</td>\n",
              "      <td>38.195</td>\n",
              "      <td>4667.081</td>\n",
              "    </tr>\n",
              "    <tr>\n",
              "      <th>4</th>\n",
              "      <td>36.0080</td>\n",
              "      <td>96.96</td>\n",
              "      <td>97.73</td>\n",
              "      <td>61.89</td>\n",
              "      <td>95.5300</td>\n",
              "      <td>58.230000</td>\n",
              "      <td>58.21</td>\n",
              "      <td>126.585</td>\n",
              "      <td>26.720</td>\n",
              "      <td>165.9900</td>\n",
              "      <td>738.72</td>\n",
              "      <td>42.61</td>\n",
              "      <td>162.75</td>\n",
              "      <td>43.92</td>\n",
              "      <td>160.86</td>\n",
              "      <td>286.42</td>\n",
              "      <td>34.62</td>\n",
              "      <td>106.0000</td>\n",
              "      <td>61.890000</td>\n",
              "      <td>67.30</td>\n",
              "      <td>168.44</td>\n",
              "      <td>30.875</td>\n",
              "      <td>28.3900</td>\n",
              "      <td>43.63</td>\n",
              "      <td>58.56</td>\n",
              "      <td>25.32</td>\n",
              "      <td>52.100000</td>\n",
              "      <td>96.76</td>\n",
              "      <td>77.03</td>\n",
              "      <td>30.89</td>\n",
              "      <td>76.50</td>\n",
              "      <td>118.42</td>\n",
              "      <td>41.820</td>\n",
              "      <td>121.380</td>\n",
              "      <td>27.40</td>\n",
              "      <td>26.83</td>\n",
              "      <td>82.48</td>\n",
              "      <td>755.6700</td>\n",
              "      <td>34.9500</td>\n",
              "      <td>21.8593</td>\n",
              "      <td>...</td>\n",
              "      <td>30.12</td>\n",
              "      <td>91.45</td>\n",
              "      <td>71.1299</td>\n",
              "      <td>32.86</td>\n",
              "      <td>55.28</td>\n",
              "      <td>45.765</td>\n",
              "      <td>56.690</td>\n",
              "      <td>14.0701</td>\n",
              "      <td>39.54</td>\n",
              "      <td>47.010</td>\n",
              "      <td>41.920</td>\n",
              "      <td>91.86</td>\n",
              "      <td>26.4010</td>\n",
              "      <td>56.5200</td>\n",
              "      <td>85.8700</td>\n",
              "      <td>61.110</td>\n",
              "      <td>57.165</td>\n",
              "      <td>37.7972</td>\n",
              "      <td>61.16</td>\n",
              "      <td>26.68</td>\n",
              "      <td>61.42</td>\n",
              "      <td>58.490</td>\n",
              "      <td>4.215</td>\n",
              "      <td>31.050</td>\n",
              "      <td>65.33</td>\n",
              "      <td>20.36</td>\n",
              "      <td>44.610</td>\n",
              "      <td>69.7401</td>\n",
              "      <td>91.16</td>\n",
              "      <td>227.1250</td>\n",
              "      <td>71.06</td>\n",
              "      <td>45.050</td>\n",
              "      <td>31.1800</td>\n",
              "      <td>94.155</td>\n",
              "      <td>81.720</td>\n",
              "      <td>52.30</td>\n",
              "      <td>34.17</td>\n",
              "      <td>48.89</td>\n",
              "      <td>38.320</td>\n",
              "      <td>4664.491</td>\n",
              "    </tr>\n",
              "  </tbody>\n",
              "</table>\n",
              "<p>5 rows × 82 columns</p>\n",
              "</div>"
            ],
            "text/plain": [
              "       AAL   AAPL   ADBE    ADI      ADP  ...    WDC    WFM   XLNX    YHOO       NDX\n",
              "0  35.9800  96.80  97.80  61.15  95.4000  ...  52.16  33.95  48.61  38.010  4665.054\n",
              "1  35.9310  96.89  97.80  61.61  95.4115  ...  52.15  34.10  48.74  38.140  4665.054\n",
              "2  35.9044  96.95  97.57  61.98  95.5100  ...  52.27  34.01  48.99  38.150  4665.826\n",
              "3  35.8900  96.97  97.55  62.09  95.5200  ...  52.30  33.96  48.95  38.195  4667.081\n",
              "4  36.0080  96.96  97.73  61.89  95.5300  ...  52.30  34.17  48.89  38.320  4664.491\n",
              "\n",
              "[5 rows x 82 columns]"
            ]
          },
          "metadata": {
            "tags": []
          },
          "execution_count": 113
        }
      ]
    },
    {
      "cell_type": "markdown",
      "metadata": {
        "id": "u5pL8vUXIcm4",
        "colab_type": "text"
      },
      "source": [
        "Рассмотрим данные по акциям компании Apple - AAPL."
      ]
    },
    {
      "cell_type": "code",
      "metadata": {
        "id": "V3kuSOyGIcpP",
        "colab_type": "code",
        "colab": {}
      },
      "source": [
        "data_apple = data_nasdaq['AAPL'][:10000]\n",
        "test_size = 1000"
      ],
      "execution_count": 0,
      "outputs": []
    },
    {
      "cell_type": "code",
      "metadata": {
        "id": "VHhUq4QsKfsP",
        "colab_type": "code",
        "outputId": "0cdb380d-e38c-4bda-e745-e8c05a7022dc",
        "colab": {
          "base_uri": "https://localhost:8080/",
          "height": 507
        }
      },
      "source": [
        "data_apple.plot(title='AAPL', figsize=(12, 8))\n",
        "plt.vlines(len(data_apple) - test_size, \n",
        "           ymin=np.min(data_apple), \n",
        "           ymax=120, \n",
        "           color='green', \n",
        "           ls=':')\n",
        "plt.show()"
      ],
      "execution_count": 115,
      "outputs": [
        {
          "output_type": "display_data",
          "data": {
            "image/png": "[encoded data removed]",
            "text/plain": [
              "<Figure size 864x576 with 1 Axes>"
            ]
          },
          "metadata": {
            "tags": [],
            "needs_background": "light"
          }
        }
      ]
    },
    {
      "cell_type": "code",
      "metadata": {
        "id": "UIYRLjbtJ2-2",
        "colab_type": "code",
        "colab": {}
      },
      "source": [
        "train_data_aapl = data_apple[:-test_size].values\n",
        "test_data_aapl = data_apple[-test_size:].values"
      ],
      "execution_count": 0,
      "outputs": []
    },
    {
      "cell_type": "code",
      "metadata": {
        "id": "rXPa_pMpKZ5t",
        "colab_type": "code",
        "colab": {}
      },
      "source": [
        "scaler = StandardScaler()\n",
        "train_data_aapl = scaler.fit_transform(train_data_aapl.reshape(-1, 1))"
      ],
      "execution_count": 0,
      "outputs": []
    },
    {
      "cell_type": "code",
      "metadata": {
        "id": "50g6q0aVSNH0",
        "colab_type": "code",
        "colab": {}
      },
      "source": [
        "model = SimpleLSTM()\n",
        "loss_function = nn.MSELoss()\n",
        "optimizer = torch.optim.Adam(model.parameters(), lr=0.01)\n",
        "optimization = Optimization(model, loss_function, optimizer)"
      ],
      "execution_count": 0,
      "outputs": []
    },
    {
      "cell_type": "code",
      "metadata": {
        "id": "wAxJpeQNoruc",
        "colab_type": "code",
        "colab": {}
      },
      "source": [
        "train_inout_data = optimization.preprocess_data(\n",
        "    torch.FloatTensor(train_data_aapl), \n",
        "    train_horizon=30\n",
        ") #работу с данными наверно стоит вложить в класс"
      ],
      "execution_count": 0,
      "outputs": []
    },
    {
      "cell_type": "code",
      "metadata": {
        "id": "MkYi_yr2osUU",
        "colab_type": "code",
        "colab": {
          "base_uri": "https://localhost:8080/",
          "height": 258
        },
        "outputId": "7fed6281-0cd1-4af3-bc1b-ac2ec009b180"
      },
      "source": [
        "optimization.train(train_inout_data, num_epochs=10)"
      ],
      "execution_count": 142,
      "outputs": [
        {
          "output_type": "stream",
          "text": [
            "/usr/local/lib/python3.6/dist-packages/torch/nn/modules/loss.py:431: UserWarning: Using a target size (torch.Size([1, 1])) that is different to the input size (torch.Size([1])). This will likely lead to incorrect results due to broadcasting. Please ensure they have the same size.\n",
            "  return F.mse_loss(input, target, reduction=self.reduction)\n"
          ],
          "name": "stderr"
        },
        {
          "output_type": "stream",
          "text": [
            "epoch:   0 loss: 0.01017150\n",
            "epoch:   1 loss: 0.01104918\n",
            "epoch:   2 loss: 0.00986661\n",
            "epoch:   3 loss: 0.00938127\n",
            "epoch:   4 loss: 0.00911492\n",
            "epoch:   5 loss: 0.00887849\n",
            "epoch:   6 loss: 0.00840339\n",
            "epoch:   7 loss: 0.00885423\n",
            "epoch:   8 loss: 0.00884929\n",
            "epoch:   9 loss: 0.00910752\n",
            "epoch:   9 loss: 0.0091075161\n"
          ],
          "name": "stdout"
        }
      ]
    },
    {
      "cell_type": "code",
      "metadata": {
        "id": "FRB1LcoFoymn",
        "colab_type": "code",
        "colab": {}
      },
      "source": [
        ""
      ],
      "execution_count": 0,
      "outputs": []
    },
    {
      "cell_type": "code",
      "metadata": {
        "id": "rL_chXK6-8D9",
        "colab_type": "code",
        "colab": {}
      },
      "source": [
        "train_horizon = 30\n",
        "pred_horizon = test_size\n",
        "test_inputs = list(train_data_aapl.reshape(len(train_data_aapl))[-train_horizon:])"
      ],
      "execution_count": 0,
      "outputs": []
    },
    {
      "cell_type": "code",
      "metadata": {
        "id": "nWr_LNYbDgZx",
        "colab_type": "code",
        "colab": {}
      },
      "source": [
        "predictions = optimization.predict(test_inputs, test_size, train_horizon)\n",
        "predictions = scaler.inverse_transform(predictions).reshape(-1, 1)"
      ],
      "execution_count": 0,
      "outputs": []
    },
    {
      "cell_type": "code",
      "metadata": {
        "id": "OyH8VJz8Djco",
        "colab_type": "code",
        "outputId": "419beb37-dea8-4be8-8223-7be253169b41",
        "colab": {
          "base_uri": "https://localhost:8080/",
          "height": 326
        }
      },
      "source": [
        "plt.figure(figsize=(10, 5))\n",
        "plt.plot(test_data_appl, label='test')\n",
        "plt.plot(predictions, label='predictions')\n",
        "plt.legend()\n",
        "plt.show()"
      ],
      "execution_count": 150,
      "outputs": [
        {
          "output_type": "display_data",
          "data": {
            "image/png": "[encoded data removed]",
            "text/plain": [
              "<Figure size 720x360 with 1 Axes>"
            ]
          },
          "metadata": {
            "tags": [],
            "needs_background": "light"
          }
        }
      ]
    },
    {
      "cell_type": "markdown",
      "metadata": {
        "id": "e1DKqsyxwDMo",
        "colab_type": "text"
      },
      "source": [
        "Предсказание получилось почти константным, возможно это произошло из-за плохого выбора `pred_horizon`, т.к. я строил предсказание динамически."
      ]
    },
    {
      "cell_type": "markdown",
      "metadata": {
        "id": "-tG5Rp4dvmoY",
        "colab_type": "text"
      },
      "source": [
        "Данные об электричестве."
      ]
    },
    {
      "cell_type": "code",
      "metadata": {
        "id": "Kt9Cyv7VvoGn",
        "colab_type": "code",
        "colab": {}
      },
      "source": [
        "ELEC_PROD_DATA_PATH = \"/content/drive/My Drive/HobbyTaste/data/Electric_Production.csv\""
      ],
      "execution_count": 0,
      "outputs": []
    },
    {
      "cell_type": "code",
      "metadata": {
        "id": "qmZK2XRdvoQu",
        "colab_type": "code",
        "outputId": "2f424d59-9792-4ba1-c3ea-e891ba0c77ea",
        "colab": {
          "base_uri": "https://localhost:8080/",
          "height": 119
        }
      },
      "source": [
        "electric_production_data = pd.read_csv(ELEC_PROD_DATA_PATH)\n",
        "electric_production_data.head(), electric_production_data.shape"
      ],
      "execution_count": 125,
      "outputs": [
        {
          "output_type": "execute_result",
          "data": {
            "text/plain": [
              "(       DATE  IPG2211A2N\n",
              " 0  1/1/1985     72.5052\n",
              " 1  2/1/1985     70.6720\n",
              " 2  3/1/1985     62.4502\n",
              " 3  4/1/1985     57.4714\n",
              " 4  5/1/1985     55.3151, (397, 2))"
            ]
          },
          "metadata": {
            "tags": []
          },
          "execution_count": 125
        }
      ]
    },
    {
      "cell_type": "code",
      "metadata": {
        "id": "tckZaw5ovoUU",
        "colab_type": "code",
        "colab": {}
      },
      "source": [
        "test_size = 50"
      ],
      "execution_count": 0,
      "outputs": []
    },
    {
      "cell_type": "code",
      "metadata": {
        "id": "nvPBetQlfHTP",
        "colab_type": "code",
        "colab": {}
      },
      "source": [
        "train_electric = electric_production_data[:-test_size].values[:, 1]\n",
        "test_electric = electric_production_data[-test_size:].values[:, 1]"
      ],
      "execution_count": 0,
      "outputs": []
    },
    {
      "cell_type": "code",
      "metadata": {
        "id": "3VjINMk7lgRu",
        "colab_type": "code",
        "colab": {}
      },
      "source": [
        "scaler = StandardScaler()\n",
        "train_electric = scaler.fit_transform(train_electric.reshape(-1, 1))"
      ],
      "execution_count": 0,
      "outputs": []
    },
    {
      "cell_type": "code",
      "metadata": {
        "id": "TvkJGftnltxk",
        "colab_type": "code",
        "colab": {}
      },
      "source": [
        "#train_inout_data = preprocess_data(torch.FloatTensor(train_electric))"
      ],
      "execution_count": 0,
      "outputs": []
    },
    {
      "cell_type": "code",
      "metadata": {
        "id": "t_7Xob9aXwHr",
        "colab_type": "code",
        "colab": {}
      },
      "source": [
        "model = SimpleLSTM()\n",
        "loss_function = nn.MSELoss()\n",
        "optimizer = torch.optim.Adam(model.parameters(), lr=0.001)\n",
        "optimization = Optimization(model, loss_function, optimizer)"
      ],
      "execution_count": 0,
      "outputs": []
    },
    {
      "cell_type": "code",
      "metadata": {
        "id": "oIPQj22fX_J0",
        "colab_type": "code",
        "colab": {}
      },
      "source": [
        "train_inout_data = optimization.preprocess_data(\n",
        "    torch.FloatTensor(train_electric), \n",
        "    train_horizon=30\n",
        ") #работу с данными наверно стоит вложить в класс"
      ],
      "execution_count": 0,
      "outputs": []
    },
    {
      "cell_type": "code",
      "metadata": {
        "id": "7uFn12xGYWAv",
        "colab_type": "code",
        "colab": {
          "base_uri": "https://localhost:8080/",
          "height": 1000
        },
        "outputId": "ec00f89f-7a77-4e52-94e1-33d57d95dfcb"
      },
      "source": [
        "optimization.train(train_inout_data, num_epochs=100)"
      ],
      "execution_count": 131,
      "outputs": [
        {
          "output_type": "stream",
          "text": [
            "/usr/local/lib/python3.6/dist-packages/torch/nn/modules/loss.py:431: UserWarning: Using a target size (torch.Size([1, 1])) that is different to the input size (torch.Size([1])). This will likely lead to incorrect results due to broadcasting. Please ensure they have the same size.\n",
            "  return F.mse_loss(input, target, reduction=self.reduction)\n"
          ],
          "name": "stderr"
        },
        {
          "output_type": "stream",
          "text": [
            "epoch:   0 loss: 0.03394784\n",
            "epoch:   1 loss: 0.02097459\n",
            "epoch:   2 loss: 0.24947236\n",
            "epoch:   3 loss: 0.22897646\n",
            "epoch:   4 loss: 0.22035219\n",
            "epoch:   5 loss: 0.20579045\n",
            "epoch:   6 loss: 0.19027250\n",
            "epoch:   7 loss: 0.18559158\n",
            "epoch:   8 loss: 0.16772003\n",
            "epoch:   9 loss: 0.14744201\n",
            "epoch:  10 loss: 0.12647447\n",
            "epoch:  11 loss: 0.10950458\n",
            "epoch:  12 loss: 0.09720510\n",
            "epoch:  13 loss: 0.08876967\n",
            "epoch:  14 loss: 0.08311990\n",
            "epoch:  15 loss: 0.07952803\n",
            "epoch:  16 loss: 0.07069679\n",
            "epoch:  17 loss: 0.05556531\n",
            "epoch:  18 loss: 0.12395960\n",
            "epoch:  19 loss: 0.05153843\n",
            "epoch:  20 loss: 0.04647495\n",
            "epoch:  21 loss: 0.16435745\n",
            "epoch:  22 loss: 0.04651708\n",
            "epoch:  23 loss: 0.04536372\n",
            "epoch:  24 loss: 0.04501012\n",
            "epoch:  25 loss: 0.04340846\n",
            "epoch:  26 loss: 0.04052998\n",
            "epoch:  27 loss: 0.03711035\n",
            "epoch:  28 loss: 0.03107141\n",
            "epoch:  29 loss: 0.27359197\n",
            "epoch:  30 loss: 0.04028639\n",
            "epoch:  31 loss: 0.03559947\n",
            "epoch:  32 loss: 0.03509756\n",
            "epoch:  33 loss: 0.03351155\n",
            "epoch:  34 loss: 0.03090969\n",
            "epoch:  35 loss: 0.02916783\n",
            "epoch:  36 loss: 0.02678937\n",
            "epoch:  37 loss: 0.02460106\n",
            "epoch:  38 loss: 0.02377511\n",
            "epoch:  39 loss: 0.05333472\n",
            "epoch:  40 loss: 0.02235913\n",
            "epoch:  41 loss: 0.01760790\n",
            "epoch:  42 loss: 0.02128913\n",
            "epoch:  43 loss: 0.01787845\n",
            "epoch:  44 loss: 0.01170634\n",
            "epoch:  45 loss: 0.00318985\n",
            "epoch:  46 loss: 0.00726638\n",
            "epoch:  47 loss: 0.00251250\n",
            "epoch:  48 loss: 0.00004193\n",
            "epoch:  49 loss: 0.01912056\n",
            "epoch:  50 loss: 0.01888635\n",
            "epoch:  51 loss: 0.00000651\n",
            "epoch:  52 loss: 0.01451875\n",
            "epoch:  53 loss: 0.02589712\n",
            "epoch:  54 loss: 0.00778670\n",
            "epoch:  55 loss: 0.00378363\n",
            "epoch:  56 loss: 0.00008030\n",
            "epoch:  57 loss: 0.02416147\n",
            "epoch:  58 loss: 0.01585284\n",
            "epoch:  59 loss: 0.01944336\n",
            "epoch:  60 loss: 0.02503151\n",
            "epoch:  61 loss: 0.00877276\n",
            "epoch:  62 loss: 0.00376532\n",
            "epoch:  63 loss: 0.00023988\n",
            "epoch:  64 loss: 0.06239222\n",
            "epoch:  65 loss: 0.01015549\n",
            "epoch:  66 loss: 0.00502115\n",
            "epoch:  67 loss: 0.02418972\n",
            "epoch:  68 loss: 0.00875731\n",
            "epoch:  69 loss: 0.00232694\n",
            "epoch:  70 loss: 0.00352385\n",
            "epoch:  71 loss: 0.00000122\n",
            "epoch:  72 loss: 0.00076919\n",
            "epoch:  73 loss: 0.00698380\n",
            "epoch:  74 loss: 0.02112705\n",
            "epoch:  75 loss: 0.00008630\n",
            "epoch:  76 loss: 0.02452677\n",
            "epoch:  77 loss: 0.03092734\n",
            "epoch:  78 loss: 0.08790872\n",
            "epoch:  79 loss: 0.04345852\n",
            "epoch:  80 loss: 0.05648239\n",
            "epoch:  81 loss: 0.04153452\n",
            "epoch:  82 loss: 0.03639373\n",
            "epoch:  83 loss: 0.04992058\n",
            "epoch:  84 loss: 0.01867364\n",
            "epoch:  85 loss: 0.08082010\n",
            "epoch:  86 loss: 0.04226561\n",
            "epoch:  87 loss: 0.03930058\n",
            "epoch:  88 loss: 0.06517763\n",
            "epoch:  89 loss: 0.09395085\n",
            "epoch:  90 loss: 0.07694062\n",
            "epoch:  91 loss: 0.05598031\n",
            "epoch:  92 loss: 0.03119202\n",
            "epoch:  93 loss: 0.10997019\n",
            "epoch:  94 loss: 0.05220359\n",
            "epoch:  95 loss: 0.08381052\n",
            "epoch:  96 loss: 0.05466624\n",
            "epoch:  97 loss: 0.03351672\n",
            "epoch:  98 loss: 0.04479782\n",
            "epoch:  99 loss: 0.03264767\n",
            "epoch:  99 loss: 0.0326476656\n"
          ],
          "name": "stdout"
        }
      ]
    },
    {
      "cell_type": "code",
      "metadata": {
        "id": "P_XXNpppmCi-",
        "colab_type": "code",
        "colab": {}
      },
      "source": [
        "train_horizon = 30\n",
        "test_inputs = list(train_electric.reshape(len(train_electric))[-train_horizon:])"
      ],
      "execution_count": 0,
      "outputs": []
    },
    {
      "cell_type": "code",
      "metadata": {
        "id": "SthWtmTjmg-1",
        "colab_type": "code",
        "colab": {}
      },
      "source": [
        "predictions = optimization.predict(test_inputs, test_size, train_horizon)"
      ],
      "execution_count": 0,
      "outputs": []
    },
    {
      "cell_type": "code",
      "metadata": {
        "id": "oER_vmKqmkV-",
        "colab_type": "code",
        "colab": {}
      },
      "source": [
        "predictions = scaler.inverse_transform(predictions).reshape(-1, 1)"
      ],
      "execution_count": 0,
      "outputs": []
    },
    {
      "cell_type": "code",
      "metadata": {
        "id": "yZR1OFX8mpF8",
        "colab_type": "code",
        "outputId": "b3e2f4f0-e6bc-48ff-9afb-31055d7db521",
        "colab": {
          "base_uri": "https://localhost:8080/",
          "height": 326
        }
      },
      "source": [
        "plt.figure(figsize=(10, 5))\n",
        "plt.plot(test_electric, label='test')\n",
        "plt.plot(predictions, label='predictions')\n",
        "plt.legend()\n",
        "plt.show()"
      ],
      "execution_count": 135,
      "outputs": [
        {
          "output_type": "display_data",
          "data": {
            "image/png": "[encoded data removed]",
            "text/plain": [
              "<Figure size 720x360 with 1 Axes>"
            ]
          },
          "metadata": {
            "tags": [],
            "needs_background": "light"
          }
        }
      ]
    },
    {
      "cell_type": "code",
      "metadata": {
        "id": "PytECahlnVKq",
        "colab_type": "code",
        "outputId": "33a8f8b2-99b5-47a5-91e0-d518afa3aeb7",
        "colab": {
          "base_uri": "https://localhost:8080/",
          "height": 34
        }
      },
      "source": [
        "# RMSE\n",
        "np.sqrt(((predictions - test_electric)**2).mean())"
      ],
      "execution_count": 136,
      "outputs": [
        {
          "output_type": "execute_result",
          "data": {
            "text/plain": [
              "13.94532063483629"
            ]
          },
          "metadata": {
            "tags": []
          },
          "execution_count": 136
        }
      ]
    }
  ]
}