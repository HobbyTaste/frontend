{
  "nbformat": 4,
  "nbformat_minor": 0,
  "metadata": {
    "kernelspec": {
      "display_name": "Python 3",
      "language": "python",
      "name": "python3"
    },
    "language_info": {
      "codemirror_mode": {
        "name": "ipython",
        "version": 3
      },
      "file_extension": ".py",
      "mimetype": "text/x-python",
      "name": "python",
      "nbconvert_exporter": "python",
      "pygments_lexer": "ipython3",
      "version": "3.7.3"
    },
    "colab": {
      "name": "lstm_keras.ipynb",
      "provenance": []
    }
  },
  "cells": [
    {
      "cell_type": "code",
      "metadata": {
        "id": "jO4p9g_N2dRi",
        "colab_type": "code",
        "colab": {
          "base_uri": "https://localhost:8080/",
          "height": 34
        },
        "outputId": "8a94358a-bd08-4387-ba68-5015f99664d5"
      },
      "source": [
        "from __future__ import print_function\n",
        "from keras.callbacks import LambdaCallback\n",
        "from keras.models import Sequential\n",
        "from keras.layers import Dense\n",
        "from keras.layers import LSTM\n",
        "from keras.optimizers import RMSprop\n",
        "from keras.utils.data_utils import get_file\n",
        "import numpy as np\n",
        "import random\n",
        "import sys\n",
        "import io"
      ],
      "execution_count": 1,
      "outputs": [
        {
          "output_type": "stream",
          "text": [
            "Using TensorFlow backend.\n"
          ],
          "name": "stderr"
        }
      ]
    },
    {
      "cell_type": "code",
      "metadata": {
        "id": "KlBDrUVO2dRp",
        "colab_type": "code",
        "colab": {
          "base_uri": "https://localhost:8080/",
          "height": 85
        },
        "outputId": "dcda92f5-af06-4223-f0ba-e40afe87f929"
      },
      "source": [
        "path = get_file(\n",
        "    'nietzsche.txt',\n",
        "    origin='https://s3.amazonaws.com/text-datasets/nietzsche.txt')\n",
        "with io.open(path, encoding='utf-8') as f:\n",
        "    text = f.read().lower()\n",
        "print('corpus length:', len(text))\n",
        "\n",
        "chars = sorted(list(set(text)))\n",
        "print('total chars:', len(chars))\n",
        "char_indices = dict((c, i) for i, c in enumerate(chars))\n",
        "indices_char = dict((i, c) for i, c in enumerate(chars))"
      ],
      "execution_count": 2,
      "outputs": [
        {
          "output_type": "stream",
          "text": [
            "Downloading data from https://s3.amazonaws.com/text-datasets/nietzsche.txt\n",
            "606208/600901 [==============================] - 0s 0us/step\n",
            "corpus length: 600893\n",
            "total chars: 57\n"
          ],
          "name": "stdout"
        }
      ]
    },
    {
      "cell_type": "code",
      "metadata": {
        "id": "LOMw5PvM2dRv",
        "colab_type": "code",
        "colab": {
          "base_uri": "https://localhost:8080/",
          "height": 51
        },
        "outputId": "77486260-0506-4bab-edd7-98ad42581e7e"
      },
      "source": [
        "maxlen = 40\n",
        "step = 3\n",
        "sentences = []\n",
        "next_chars = []\n",
        "for i in range(0, len(text) - maxlen, step):\n",
        "    sentences.append(text[i: i + maxlen])\n",
        "    next_chars.append(text[i + maxlen])\n",
        "print('nb sequences:', len(sentences))\n",
        "\n",
        "print('Vectorization...')\n",
        "x = np.zeros((len(sentences), maxlen, len(chars)), dtype=np.bool)\n",
        "y = np.zeros((len(sentences), len(chars)), dtype=np.bool)\n",
        "for i, sentence in enumerate(sentences):\n",
        "    for t, char in enumerate(sentence):\n",
        "        x[i, t, char_indices[char]] = 1\n",
        "    y[i, char_indices[next_chars[i]]] = 1"
      ],
      "execution_count": 3,
      "outputs": [
        {
          "output_type": "stream",
          "text": [
            "nb sequences: 200285\n",
            "Vectorization...\n"
          ],
          "name": "stdout"
        }
      ]
    },
    {
      "cell_type": "code",
      "metadata": {
        "id": "7uF6JS5d2dR0",
        "colab_type": "code",
        "colab": {
          "base_uri": "https://localhost:8080/",
          "height": 34
        },
        "outputId": "92a463d6-39f4-476b-d500-47d8fe4b5c3a"
      },
      "source": [
        "# build the model: a single LSTM\n",
        "print('Build model...')\n",
        "model = Sequential()\n",
        "model.add(LSTM(128, input_shape=(maxlen, len(chars))))\n",
        "model.add(Dense(len(chars), activation='softmax'))\n",
        "\n",
        "optimizer = RMSprop(lr=0.01)\n",
        "model.compile(loss='categorical_crossentropy', optimizer=optimizer)"
      ],
      "execution_count": 4,
      "outputs": [
        {
          "output_type": "stream",
          "text": [
            "Build model...\n"
          ],
          "name": "stdout"
        }
      ]
    },
    {
      "cell_type": "code",
      "metadata": {
        "id": "ccw7BdCK2dR7",
        "colab_type": "code",
        "colab": {}
      },
      "source": [
        "def sample(preds, temperature=1.0):\n",
        "    preds = np.asarray(preds).astype('float64')\n",
        "    preds = np.log(preds) / temperature\n",
        "    exp_preds = np.exp(preds)\n",
        "    preds = exp_preds / np.sum(exp_preds)\n",
        "    probas = np.random.multinomial(1, preds, 1)\n",
        "    return np.argmax(probas)\n",
        "\n",
        "\n",
        "def on_epoch_end(epoch, _):\n",
        "    print()\n",
        "    print('----- Generating text after Epoch: %d' % epoch)\n",
        "\n",
        "    start_index = random.randint(0, len(text) - maxlen - 1)\n",
        "    for diversity in [0.2, 0.5, 1.0, 1.2]:\n",
        "        print('----- diversity:', diversity)\n",
        "\n",
        "        generated = ''\n",
        "        sentence = text[start_index: start_index + maxlen]\n",
        "        generated += sentence\n",
        "        print('----- Generating with seed: \"' + sentence + '\"')\n",
        "        sys.stdout.write(generated)\n",
        "\n",
        "        for i in range(400):\n",
        "            x_pred = np.zeros((1, maxlen, len(chars)))\n",
        "            for t, char in enumerate(sentence):\n",
        "                x_pred[0, t, char_indices[char]] = 1.\n",
        "\n",
        "            preds = model.predict(x_pred, verbose=0)[0]\n",
        "            next_index = sample(preds, diversity)\n",
        "            next_char = indices_char[next_index]\n",
        "\n",
        "            sentence = sentence[1:] + next_char\n",
        "\n",
        "            sys.stdout.write(next_char)\n",
        "            sys.stdout.flush()\n",
        "        print()"
      ],
      "execution_count": 0,
      "outputs": []
    },
    {
      "cell_type": "code",
      "metadata": {
        "id": "0JfY94OS2dSB",
        "colab_type": "code",
        "colab": {
          "base_uri": "https://localhost:8080/",
          "height": 1000
        },
        "outputId": "a170f4f2-0ec8-462f-c086-0ece370e3cfe"
      },
      "source": [
        "print_callback = LambdaCallback(on_epoch_end=on_epoch_end)\n",
        "\n",
        "model.fit(x, y,\n",
        "          batch_size=128,\n",
        "          epochs=60,\n",
        "callbacks=[print_callback])"
      ],
      "execution_count": 0,
      "outputs": [
        {
          "output_type": "stream",
          "text": [
            "Epoch 1/60\n",
            "200285/200285 [==============================] - 226s 1ms/step - loss: 1.9711\n",
            "\n",
            "----- Generating text after Epoch: 0\n",
            "----- diversity: 0.2\n",
            "----- Generating with seed: \"y, so far as the brute is concerned, if \"\n",
            "y, so far as the brute is concerned, if the soul of the many to the will to the consting and all the respare to the forth of the supress of the superstal for the will to the form and to the forth of the forse and with the will to the consting of the form to the soul of the will to the anting to the sumple to such a our the forter to the others and with the still of the will of the will to the for and the reconsing the form of the our ex\n",
            "----- diversity: 0.5\n",
            "----- Generating with seed: \"y, so far as the brute is concerned, if \"\n",
            "y, so far as the brute is concerned, if the man in the will of them and without and dact of all the soul of means and many to uncertain to the for are that his obfiral many beconsting with the would to invorction of the forth in the some to becouse of which, there is the experience of the soul and lought, he wish the stire them or at they experity to his of presing of recouse of its instinct of all to their spirit of the will that must \n",
            "----- diversity: 1.0\n",
            "----- Generating with seed: \"y, so far as the brute is concerned, if \"\n",
            "y, so far as the brute is concerned, if merisewy ply\"ion dumuty.\" evirsce objarible,s to sucurition spiratity\n",
            "of oppositionan--turnher in\n",
            "recogniss without ableaphy are onetfligence to the lirgnor to de emist d-dive. and wird profolsely crasacing to raligogantly to recisity. they leavh, and corvinx. in find deconstic \"to hakenot to thus\n",
            "frenedf what injuture on mer, wroke in his cograin uply\n",
            "oite by this kopitiels, and with prisal deeve\n",
            "----- diversity: 1.2\n",
            "----- Generating with seed: \"y, so far as the brute is concerned, if \"\n",
            "y, so far as the brute is concerned, if it\n",
            "desponstion. roped\n",
            "van, eet life ne!wike truto; who nuing bennersfur menking ogr; geoves, finself ma'ner--that nature find to\n",
            "raccisspto out. with\n",
            "maynifiely \"findem jodgar, again\n",
            "laby; theic where rutg; germanaanthts as nightly\n",
            "if lleas of fad eduriments: not becosscabaality is oul bagst here aded opbedur as madul\n",
            "in overioustm; howe, is enjucious aroursulg, is eeared ooul? and ly god them who\n",
            "Epoch 2/60\n",
            "200285/200285 [==============================] - 226s 1ms/step - loss: 1.6237\n",
            "\n",
            "----- Generating text after Epoch: 1\n",
            "----- diversity: 0.2\n",
            "----- Generating with seed: \"rding evil doer.=--when the rich man\n",
            "tak\"\n",
            "rding evil doer.=--when the rich man\n",
            "take the moral an an instance of the same moral in the compleation of the moral and and an an and and an act of the compare and the compare the sensation of the same to the same to the contemption of the compare an action of the same to the contradiation of the contemption of the same an any to the contradiate and an action of the contemple and an acts of the same to the contemption of the cause of t\n",
            "----- diversity: 0.5\n",
            "----- Generating with seed: \"rding evil doer.=--when the rich man\n",
            "tak\"\n",
            "rding evil doer.=--when the rich man\n",
            "tak long to his powers of such as the same superiod of be reading of regard for a some has in the cause and retention of the worth,\n",
            "the strongest of thereby an a man of the conclarion of the same an instinction. that is the caller instonding the moral enouth of the contration of and sacrifice of the sensation of pression and any more trousturiously to the antician will the say and in it and forter wo\n",
            "----- diversity: 1.0\n",
            "----- Generating with seed: \"rding evil doer.=--when the rich man\n",
            "tak\"\n",
            "rding evil doer.=--when the rich man\n",
            "take instupheson. adad itsulation; every\n",
            "primons to men.\n",
            "\n",
            "   a casiness. and man coancterm, every individual to itself in the\n",
            "? ness spacts, everity iftersrident ofter. sayr cama, those  arr of eromenalferce, in side\n",
            "danger more lifterenation.!\n",
            "\n",
            " the have no could that mosc dack and allowicr of reficsing upor\n",
            "ecridingm, very doind indived against apremanic, so another hand reeks of thosewaicuance mor\n",
            "----- diversity: 1.2\n",
            "----- Generating with seed: \"rding evil doer.=--when the rich man\n",
            "tak\"\n",
            "rding evil doer.=--when the rich man\n",
            "takit of but, thus memithoningds alractian for the\n",
            "hidre\"--oncomeen, to thoughwhtom an ast aware which, as\n",
            "no upon\n",
            "will the permation,\n",
            "\"\n",
            "edlace has truthly therevirss,\n",
            "new-frel many thato\n",
            "podtoouces, co ergod.=--egiest and sish\n",
            "and powinateolsts, from thisu-from\n",
            "is opponsipress one, we\n",
            "gre senses calved in seek-negate then cartured \"fasti(nlasion, an, and or man a we.--for hyverhanitield felling\n",
            "mora\n",
            "Epoch 3/60\n",
            "200285/200285 [==============================] - 226s 1ms/step - loss: 1.5312\n",
            "\n",
            "----- Generating text after Epoch: 2\n",
            "----- diversity: 0.2\n",
            "----- Generating with seed: \"row\n",
            "healthy--i mean healthier. it is wis\"\n",
            "row\n",
            "healthy--i mean healthier. it is wishes the strength and what in the moral and and has the substation of accord of the still proser and and the stands and and the sough and interpreted the desire of the stakes and and the proser in the stand of the stands and the spiritual the stands and the stands and the still the stands and the stands the subjected the still of the prosence of the states and and of the subjecting and moral and an\n",
            "----- diversity: 0.5\n",
            "----- Generating with seed: \"row\n",
            "healthy--i mean healthier. it is wis\"\n",
            "row\n",
            "healthy--i mean healthier. it is wish with the state the still one was to him, proser of the notive what is their understowence of an and a still in the personal the\n",
            "conductified in the ussest and interpreted the considers of the sto it the one who is the among man who it desire\n",
            "the\n",
            "consider to be called whence simple, the spirit with reason, which the still the spiritual their intention and spiritage of the true it is always bad of\n",
            "----- diversity: 1.0\n",
            "----- Generating with seed: \"row\n",
            "healthy--i mean healthier. it is wis\"\n",
            "row\n",
            "healthy--i mean healthier. it is wish its should devertatouns aims. \"but at an inventioks or for anopiether immenication, still from, whatever assegus of\n",
            "purpsidierw, is re agmis and comman the ourselves: it is possible\n",
            "enterly prabum. but hellow to hies that he art\n",
            "creticar still upot a\n",
            "genical possessed think him.  we havory thought for all can tellen propered exception of edutation, whatever here serface, bur rather derresse word\n",
            "----- diversity: 1.2\n",
            "----- Generating with seed: \"row\n",
            "healthy--i mean healthier. it is wis\"\n",
            "row\n",
            "healthy--i mean healthier. it is wish cubynirised to say probainforts, this segfrout\n",
            "dreed of the such valuence\n",
            "of theortens--upon \"repetiatic table, soxed his act to free-domatude they, thinke.=--actoraled mature. platoways,ss they a porjaities. ie vance may onee his euds\n",
            "whether congladly and 'every deidlecs, to indeces throu to consiberly\n",
            "the becoses--in the trugdds, but thind is it giouster] ouretie-and; gent, envicopwarn-pity a\n",
            "Epoch 4/60\n",
            "199424/200285 [============================>.] - ETA: 0s - loss: 1.4845"
          ],
          "name": "stdout"
        }
      ]
    }
  ]
}