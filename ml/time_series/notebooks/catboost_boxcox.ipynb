{
 "cells": [
  {
   "cell_type": "code",
   "execution_count": 7,
   "metadata": {
    "ExecuteTime": {
     "end_time": "2020-03-29T20:43:51.546487Z",
     "start_time": "2020-03-29T20:43:50.497351Z"
    },
    "colab": {
     "base_uri": "https://localhost:8080/",
     "height": 272
    },
    "colab_type": "code",
    "id": "Rs0Y1Cq2oVgr",
    "outputId": "b82083a5-ee74-45b9-9f03-c74c9269871a"
   },
   "outputs": [],
   "source": [
    "import torch\n",
    "import torch.nn as nn\n",
    "import torch.nn.functional as F\n",
    "from torch.nn.utils.rnn import pack_padded_sequence\n",
    "from torch.utils.data import TensorDataset, DataLoader\n",
    "\n",
    "import tqdm\n",
    "import math\n",
    "import pandas as pd\n",
    "import numpy as np\n",
    "import matplotlib.pyplot as plt\n",
    "import seaborn as sns\n",
    "from sklearn.preprocessing import MinMaxScaler\n",
    "\n",
    "from sklearn.multioutput import MultiOutputRegressor\n",
    "from catboost import CatBoostRegressor\n",
    "\n",
    "import sys; sys.path.insert(0, '..')\n",
    "from models.VAR.metrics import root_mean_squared_error, mean_absolute_percentage_error\n",
    "\n",
    "sns.set(font_scale=1.5)\n",
    "%matplotlib inline"
   ]
  },
  {
   "cell_type": "raw",
   "metadata": {
    "colab": {
     "base_uri": "https://localhost:8080/",
     "height": 122
    },
    "colab_type": "code",
    "id": "9qtMIn8LbVrq",
    "outputId": "71df1e6b-72b5-4a32-f110-3e884fae5970"
   },
   "source": [
    "from google.colab import drive\n",
    "drive.mount('/content/drive')"
   ]
  },
  {
   "cell_type": "code",
   "execution_count": 8,
   "metadata": {
    "ExecuteTime": {
     "end_time": "2020-03-29T20:43:59.561017Z",
     "start_time": "2020-03-29T20:43:59.401407Z"
    },
    "colab": {
     "base_uri": "https://localhost:8080/",
     "height": 34
    },
    "colab_type": "code",
    "id": "uY7qe7fXbdhs",
    "outputId": "96904f8e-9846-4bca-9061-3ff094816253"
   },
   "outputs": [
    {
     "name": "stdout",
     "output_type": "stream",
     "text": [
      "Using cpu\n"
     ]
    }
   ],
   "source": [
    "device = torch.device(\"cuda\" if torch.cuda.is_available() else \"cpu\")\n",
    "if device == torch.device('cpu'):\n",
    "    print('Using cpu')\n",
    "else:\n",
    "    n_gpu = torch.cuda.device_count()\n",
    "    print('Using {} GPUs'.format(torch.cuda.get_device_name(0)))"
   ]
  },
  {
   "cell_type": "code",
   "execution_count": 9,
   "metadata": {
    "ExecuteTime": {
     "end_time": "2020-03-29T20:44:05.190218Z",
     "start_time": "2020-03-29T20:44:05.175018Z"
    },
    "colab": {},
    "colab_type": "code",
    "id": "aIxozNXcbd4i"
   },
   "outputs": [],
   "source": [
    "DATA_PATH = \"../data/nasdaq100_padding.csv\"\n",
    "prediction_horizons = [3, 6, 12, 24]\n",
    "train_prediction = [3, 6, 12, 21, 30]\n",
    "batch_size = 32\n",
    "D_size=5"
   ]
  },
  {
   "cell_type": "code",
   "execution_count": 3,
   "metadata": {
    "ExecuteTime": {
     "end_time": "2020-03-29T20:42:49.151385Z",
     "start_time": "2020-03-29T20:42:47.775250Z"
    },
    "colab": {},
    "colab_type": "code",
    "id": "OtI8WsXVbeVa"
   },
   "outputs": [],
   "source": [
    "df = pd.read_csv(DATA_PATH)"
   ]
  },
  {
   "cell_type": "code",
   "execution_count": 4,
   "metadata": {
    "ExecuteTime": {
     "end_time": "2020-03-29T20:42:53.738618Z",
     "start_time": "2020-03-29T20:42:53.718437Z"
    },
    "colab": {},
    "colab_type": "code",
    "id": "NROY8oa9beoo"
   },
   "outputs": [],
   "source": [
    "class DiffLogScaler:\n",
    "    def fit_transform(\n",
    "        self, \n",
    "        X: np.ndarray\n",
    "    ):\n",
    "        \"\"\"\n",
    "        X : [num_samples, dimension]\n",
    "        строит новый ряд z_{i} = ln(y_{i} / y_{i-1})\n",
    "        \"\"\"\n",
    "        self.X_0 = np.log(X)[0, ]\n",
    "        return np.diff(np.log(X), axis = 0)\n",
    "\n",
    "\n",
    "    def inverse_transform(\n",
    "        self,\n",
    "        X: np.ndarray\n",
    "    ):\n",
    "        return np.exp(\n",
    "            np.concatenate(\n",
    "                ([self.X_0], X)\n",
    "            ).cumsum(axis=0)\n",
    "        )        "
   ]
  },
  {
   "cell_type": "code",
   "execution_count": 5,
   "metadata": {
    "ExecuteTime": {
     "end_time": "2020-03-29T20:43:00.057267Z",
     "start_time": "2020-03-29T20:43:00.009650Z"
    },
    "colab": {},
    "colab_type": "code",
    "id": "UdT8LgJpbnhD"
   },
   "outputs": [],
   "source": [
    "class Preprocessor:\n",
    "    def __init__(\n",
    "        self,\n",
    "        dataset:np.ndarray,\n",
    "        max_pred_horizon:int=28,\n",
    "        max_train_horizon:int=30,\n",
    "        D_size:int=5,\n",
    "        device=None,\n",
    "    ):\n",
    "        \"\"\"\n",
    "        dataset = [num_samples, dimentions]\n",
    "        \"\"\"\n",
    "        self.dataset = dataset[:, :D_size]\n",
    "        self.raw_dataset = dataset[:, :D_size]\n",
    "        self.max_pred_horizon=max_pred_horizon\n",
    "        self.max_train_horizon=max_train_horizon\n",
    "        self.D_size = D_size\n",
    "        self.device = device\n",
    "        self.scaler = None\n",
    "        self.train_size = None\n",
    "        self.val_size = None\n",
    "        self.test_size = None\n",
    "        self.X_train = None\n",
    "        self.y_train = None\n",
    "        self.X_val = None\n",
    "        self.y_val = None\n",
    "        self.X_test = None\n",
    "        self.y_test = None\n",
    "        self.batch_size = None\n",
    "\n",
    "    def scale(\n",
    "        self,\n",
    "        scaler=DiffLogScaler, \n",
    "    ):\n",
    "        \"\"\"\n",
    "        Scaler needs to be smth like sklearn transformer\n",
    "        \"\"\"\n",
    "        self.scaler = scaler()\n",
    "        self.dataset = self.scaler.fit_transform(self.dataset)\n",
    "\n",
    "    def get_scaled_back(\n",
    "        self,\n",
    "        dataset:np.ndarray,\n",
    "    ) -> np.ndarray:\n",
    "        if self.scaler is not None:\n",
    "            return self.scaler.inverse_transform(dataset)\n",
    "        return dataset\n",
    "\n",
    "    def _plot_row(\n",
    "        self,\n",
    "        row:int,\n",
    "    ):\n",
    "        plt.title('{} row'.format(str(row)))\n",
    "        if self.scaler is None:\n",
    "            plt.plot(self.dataset[:, row])\n",
    "        else:\n",
    "            plt.plot(self.scaler.inverse_transform(self.dataset)[:, row])\n",
    "        if self.train_size is not None:\n",
    "            plt.axvline(x=self.train_size)\n",
    "        if self.val_size is not None:\n",
    "            plt.axvline(x=self.train_size+self.val_size)\n",
    "        plt.show()\n",
    "\n",
    "    def plot_dataset(\n",
    "        self,\n",
    "        row:int=None,\n",
    "    ):\n",
    "        if row is None:\n",
    "            for i in range(self.dataset.shape[1]):\n",
    "                self._plot_row(row=i)\n",
    "        else:\n",
    "            self._plot_row(row=row)\n",
    "\n",
    "    def get_data(\n",
    "        self,\n",
    "        name:str,\n",
    "        torch_tensor=True,\n",
    "        to_device=True,\n",
    "    ) -> torch.Tensor:\n",
    "        if name not in [\n",
    "            'X_train', 'X_val', 'X_test',\n",
    "            'y_train', 'y_val', 'y_test',\n",
    "        ]:\n",
    "            raise \"Private field cannot be accessed\"\n",
    "        else:\n",
    "            if torch_tensor:\n",
    "                return torch.Tensor(getattr(self, name)).to(self.device)\n",
    "            return getattr(self, name)\n",
    "\n",
    "    def get_dataloader(\n",
    "        self,\n",
    "        name:str,\n",
    "        batch_size=128,\n",
    "    ) -> torch.utils.data.DataLoader:\n",
    "        self.batch_size = batch_size\n",
    "        if name not in [\n",
    "            'train', 'val', 'test',\n",
    "        ]:\n",
    "            raise \"Incorrect type\"\n",
    "        X = torch.Tensor(getattr(self, 'X_'+name)).to(self.device)\n",
    "        y = torch.Tensor(getattr(self, 'y_'+name)).to(self.device)\n",
    "        if X is None:\n",
    "            raise \"Doesn't have the field of this type\"\n",
    "        if name == 'train':\n",
    "            return DataLoader(\n",
    "                      TensorDataset(X, y),\n",
    "                      shuffle=True,\n",
    "                      batch_size=batch_size,\n",
    "                    )\n",
    "        return DataLoader(\n",
    "                  TensorDataset(X, y),\n",
    "                  shuffle=False,\n",
    "                  batch_size=batch_size,\n",
    "                )\n",
    "\n",
    "    def _make_X_part(\n",
    "        self,\n",
    "        begin:int,\n",
    "        end:int,\n",
    "        use_tqdm:bool=True,\n",
    "    ) -> np.ndarray:\n",
    "        \"\"\"\n",
    "        X = [num_samples, max_train_horizon, D_size]\n",
    "        \"\"\"\n",
    "        X = self.dataset[begin:begin+self.max_train_horizon,\n",
    "                         :][np.newaxis, :, :]\n",
    "        if use_tqdm:\n",
    "            for i in tqdm.tqdm(range(begin+1, end)):\n",
    "                new_elem = self.dataset[i:i+self.max_train_horizon,\n",
    "                                        :][np.newaxis, :, :]\n",
    "                X = np.concatenate((X, new_elem))\n",
    "        else:\n",
    "            for i in range(begin+1, end):\n",
    "                new_elem = self.dataset[i:i+self.max_train_horizon,\n",
    "                                        :][np.newaxis, :, :]\n",
    "                X = np.concatenate((X, new_elem))\n",
    "        return X\n",
    "\n",
    "    def _make_y_part(\n",
    "        self,\n",
    "        begin:int,\n",
    "        end:int,\n",
    "        use_tqdm:bool=True,\n",
    "    ) -> np.ndarray:\n",
    "        \"\"\"\n",
    "        y = [num_samples, max_pred_horizon, D_size]\n",
    "        \"\"\"\n",
    "        y = self.dataset[begin+self.max_train_horizon:begin+\n",
    "                         self.max_train_horizon+self.max_pred_horizon,\n",
    "                         :][np.newaxis, :, :]\n",
    "        if use_tqdm:\n",
    "            for i in tqdm.tqdm(range(begin+1+self.max_train_horizon, \n",
    "                                     end+self.max_train_horizon)):\n",
    "                new_elem = self.dataset[i:i+self.max_pred_horizon, \n",
    "                                        :][np.newaxis, :, :]\n",
    "                y = np.concatenate((y, new_elem))\n",
    "        else:\n",
    "            for i in range(begin+1+self.max_train_horizon, \n",
    "                           end+self.max_train_horizon):\n",
    "                new_elem = self.dataset[i:i+self.max_pred_horizon,\n",
    "                                        :][np.newaxis, :, :]\n",
    "                y = np.concatenate((y, new_elem))\n",
    "        return y\n",
    "\n",
    "    def train_test_split(\n",
    "        self,\n",
    "        train_size:int,\n",
    "        use_tqdm:bool=True,\n",
    "    ):\n",
    "        self.val_size = None\n",
    "        self.X_val, self.y_val = None, None\n",
    "        self.train_size = train_size\n",
    "        self.test_size = self.dataset.shape[0] - self.max_train_horizon -\\\n",
    "            self.max_pred_horizon - self.train_size\n",
    "        self.X_train = self._make_X_part(\n",
    "            begin=0,\n",
    "            end=train_size,\n",
    "            use_tqdm=use_tqdm\n",
    "        ) \n",
    "        self.y_train = self._make_y_part(\n",
    "            begin=0,\n",
    "            end=train_size,\n",
    "            use_tqdm=use_tqdm\n",
    "        )\n",
    "        self.X_test = self._make_X_part(\n",
    "            begin=train_size,\n",
    "            end=self.dataset.shape[0]-self.max_train_horizon\n",
    "            -self.max_pred_horizon,\n",
    "            use_tqdm=use_tqdm\n",
    "        )\n",
    "        self.y_test = self._make_y_part(\n",
    "            begin=train_size,\n",
    "            end=self.dataset.shape[0]-self.max_train_horizon\n",
    "            -self.max_pred_horizon,\n",
    "            use_tqdm=use_tqdm\n",
    "        )  \n",
    "    \n",
    "    def train_val_test_split(\n",
    "        self,\n",
    "        train_size:int,\n",
    "        val_size:int,\n",
    "        use_tqdm:bool=True,\n",
    "    ):\n",
    "        self.train_size = train_size\n",
    "        self.val_size = val_size\n",
    "        self.test_size = self.dataset.shape[0] - self.max_train_horizon -\\\n",
    "            self.max_pred_horizon - train_size - val_size\n",
    "        self.X_train = self._make_X_part(\n",
    "            begin=0,\n",
    "            end=train_size,\n",
    "            use_tqdm=use_tqdm\n",
    "        ) \n",
    "        self.y_train = self._make_y_part(\n",
    "            begin=0,\n",
    "            end=train_size,\n",
    "            use_tqdm=use_tqdm\n",
    "        )\n",
    "        self.X_val = self._make_X_part(\n",
    "            begin=train_size,\n",
    "            end=train_size+val_size,\n",
    "            use_tqdm=use_tqdm\n",
    "        ) \n",
    "        self.y_val = self._make_y_part(\n",
    "            begin=train_size,\n",
    "            end=train_size+val_size,\n",
    "            use_tqdm=use_tqdm\n",
    "        )\n",
    "        self.X_test = self._make_X_part(\n",
    "            begin=train_size+val_size,\n",
    "            end=self.dataset.shape[0]-self.max_train_horizon\n",
    "            -self.max_pred_horizon,\n",
    "            use_tqdm=use_tqdm\n",
    "        )\n",
    "        self.y_test = self._make_y_part(\n",
    "            begin=train_size+val_size,\n",
    "            end=self.dataset.shape[0]-self.max_train_horizon\n",
    "            -self.max_pred_horizon,\n",
    "            use_tqdm=use_tqdm\n",
    "        )  \n",
    "        "
   ]
  },
  {
   "cell_type": "code",
   "execution_count": 10,
   "metadata": {
    "ExecuteTime": {
     "end_time": "2020-03-29T20:48:57.586240Z",
     "start_time": "2020-03-29T20:44:08.380775Z"
    },
    "colab": {
     "base_uri": "https://localhost:8080/",
     "height": 119
    },
    "colab_type": "code",
    "id": "qiySHWGQboJu",
    "outputId": "e97114c8-67d2-4e2a-e9d4-7792907c9cae"
   },
   "outputs": [
    {
     "name": "stderr",
     "output_type": "stream",
     "text": [
      "100%|██████████| 29999/29999 [03:05<00:00, 161.45it/s] \n",
      "100%|██████████| 29999/29999 [01:34<00:00, 317.94it/s] \n",
      "100%|██████████| 4999/4999 [00:02<00:00, 2158.78it/s] \n",
      "100%|██████████| 4999/4999 [00:02<00:00, 2353.44it/s] \n",
      "100%|██████████| 4940/4940 [00:02<00:00, 2128.75it/s] \n",
      "100%|██████████| 4940/4940 [00:02<00:00, 2250.32it/s] \n"
     ]
    }
   ],
   "source": [
    "preproc = Preprocessor(\n",
    "    dataset=df.iloc[:40000, :].to_numpy(),\n",
    "    device=device,\n",
    ")\n",
    "preproc.scale()\n",
    "preproc.train_val_test_split(\n",
    "    train_size=30000,\n",
    "    val_size=5000,\n",
    "    use_tqdm=True,\n",
    ")"
   ]
  },
  {
   "cell_type": "code",
   "execution_count": 11,
   "metadata": {
    "ExecuteTime": {
     "end_time": "2020-03-29T21:53:30.507756Z",
     "start_time": "2020-03-29T21:53:28.320571Z"
    },
    "colab": {
     "base_uri": "https://localhost:8080/",
     "height": 281
    },
    "colab_type": "code",
    "id": "_fYNJ5ulboeO",
    "outputId": "abec93b7-bda8-46eb-c311-f1139c165ed2"
   },
   "outputs": [
    {
     "data": {
      "image/png": "[encoded data removed]",
      "text/plain": [
       "<Figure size 432x288 with 1 Axes>"
      ]
     },
     "metadata": {
      "needs_background": "light"
     },
     "output_type": "display_data"
    }
   ],
   "source": [
    "preproc.plot_dataset(0)"
   ]
  },
  {
   "cell_type": "code",
   "execution_count": 12,
   "metadata": {
    "ExecuteTime": {
     "end_time": "2020-03-29T21:53:30.692298Z",
     "start_time": "2020-03-29T21:53:30.542428Z"
    },
    "colab": {},
    "colab_type": "code",
    "id": "wyybYAQ-boqJ"
   },
   "outputs": [],
   "source": [
    "class CatBoost_model:\n",
    "    def __init__(\n",
    "        self,\n",
    "        use_gpu=True,\n",
    "        device=None,\n",
    "        loss_function='MAE',\n",
    "        multi_target=False,\n",
    "        params=None\n",
    "    ):\n",
    "        if params is not None:\n",
    "            if use_gpu:\n",
    "                    self.cbr = CatBoostRegressor(\n",
    "                    loss_function=loss_function,\n",
    "                    task_type=\"GPU\",\n",
    "                    devices='cuda:0',\n",
    "                    verbose=100,\n",
    "                    **params,\n",
    "                )\n",
    "            else:\n",
    "                self.cbr = CatBoostRegressor(\n",
    "                    loss_function=loss_function,\n",
    "                    verbose=100,\n",
    "                    **params,\n",
    "                )\n",
    "        else:\n",
    "            if use_gpu:\n",
    "              self.cbr = CatBoostRegressor(\n",
    "                  loss_function=loss_function,\n",
    "                  task_type=\"GPU\",\n",
    "                  devices='cuda:0',\n",
    "                  verbose=100,\n",
    "              )\n",
    "            else:\n",
    "                self.cbr = CatBoostRegressor(\n",
    "                    loss_function=loss_function,\n",
    "                    verbose=100,\n",
    "                )\n",
    "        if multi_target:\n",
    "            self.cbr = MultiOutputRegressor(self.cbr)\n",
    "        self.train_horizon_union = None\n",
    "        self.row_ind_union = None\n",
    "        self.train_horizon_multi = None\n",
    "        self.pred_horizon_multi = None\n",
    "    \n",
    "    def train_union(\n",
    "        self,\n",
    "        X_train,\n",
    "        y_train,\n",
    "        train_horizon:int,\n",
    "        row_ind:int=0,\n",
    "    ):\n",
    "        self.train_horizon_union = train_horizon\n",
    "        self.row_ind_union = row_ind\n",
    "        self.cbr.fit(\n",
    "            X_train[:, -self.train_horizon_union:, :].reshape(len(X_train), -1),\n",
    "            y_train[:, 0, self.row_ind_union],\n",
    "        )\n",
    "\n",
    "    def train_multi(\n",
    "        self,\n",
    "        X_train,\n",
    "        y_train,\n",
    "        train_horizon:int,\n",
    "        pred_horizon:int,\n",
    "    ):\n",
    "        self.train_horizon_multi = train_horizon\n",
    "        self.pred_horizon_multi = pred_horizon\n",
    "        self.cbr.fit(\n",
    "            X_train[:, -self.train_horizon_multi:, :].reshape(len(X_train), -1),\n",
    "            y_train[:, :self.pred_horizon_multi, :].reshape(len(y_train), -1),\n",
    "        )\n",
    "\n",
    "    def pred_union(\n",
    "        self,\n",
    "        X_data,\n",
    "        y_data,\n",
    "        horizon_pred_out:int,\n",
    "    ):\n",
    "        assert horizon_pred_out >= 1\n",
    "        output = [\n",
    "            self.cbr.predict(\n",
    "                X_data[:, -self.train_horizon_union:, :].reshape(len(X_data), -1),\n",
    "            )\n",
    "        ]\n",
    "        print(output)\n",
    "        print(y_data[:, :horizon_pred_out, self.row_ind_union])\n",
    "        additional_X = np.copy(y_data)\n",
    "        for i in range(1, horizon_pred_out):\n",
    "            additional_X[:, i-1, self.row_ind_union] = output[-1]\n",
    "            if X_data.shape[1] > i:\n",
    "                output.append(\n",
    "                    self.cbr.predict(\n",
    "                        np.concatenate(\n",
    "                            (\n",
    "                                X_data[:, -self.train_horizon_union+i:, :],\n",
    "                                additional_X[:, :i, :],\n",
    "                            ),\n",
    "                            axis=1,\n",
    "                        ).reshape(len(X_data), -1)\n",
    "                    )\n",
    "                )\n",
    "            else:\n",
    "                output.append(\n",
    "                    self.cbr.predict(\n",
    "                        additional_X[:, :i, :],\n",
    "                    ).reshape(len(X_data), -1)\n",
    "                )\n",
    "        #FIXME\n",
    "        print(output)\n",
    "        print('==================')\n",
    "        print(np.array(output).reshape(5000, -1))\n",
    "        print(np.array(output).reshape(5000, -1).shape)\n",
    "        # raise\n",
    "        output = list(map(lambda x: x[::-1], np.array(output).reshape(5000, -1)))\n",
    "        return (\n",
    "            np.array(output).reshape(-1, horizon_pred_out),\n",
    "            y_data[:, :horizon_pred_out, self.row_ind_union]\n",
    "        )\n",
    "\n",
    "    def pred_multi(\n",
    "        self,\n",
    "        X_pred,\n",
    "    ):\n",
    "        #FIXME\n",
    "        return self.pred_union(\n",
    "            X_pred[:, -self.train_horizon_multi:, :].reshape(len(X_train), -1),\n",
    "        )\n"
   ]
  },
  {
   "cell_type": "code",
   "execution_count": 15,
   "metadata": {
    "ExecuteTime": {
     "end_time": "2020-03-29T21:53:57.743295Z",
     "start_time": "2020-03-29T21:53:57.734786Z"
    },
    "colab": {},
    "colab_type": "code",
    "id": "LtrWcBwgbo0z"
   },
   "outputs": [],
   "source": [
    "cbr = CatBoost_model(\n",
    "    use_gpu=False,\n",
    "    loss_function='RMSE',\n",
    "    multi_target=False,\n",
    "    params={'iterations':2000,},\n",
    ")"
   ]
  },
  {
   "cell_type": "code",
   "execution_count": 16,
   "metadata": {
    "ExecuteTime": {
     "end_time": "2020-03-29T21:55:24.512708Z",
     "start_time": "2020-03-29T21:53:58.874110Z"
    },
    "colab": {
     "base_uri": "https://localhost:8080/",
     "height": 391
    },
    "colab_type": "code",
    "id": "x1iBIMn6bpBV",
    "outputId": "6a9ccdf9-da5e-4e98-bb43-068b7465b019"
   },
   "outputs": [
    {
     "name": "stdout",
     "output_type": "stream",
     "text": [
      "Learning rate set to 0.042223\n",
      "0:\tlearn: 0.0010345\ttotal: 199ms\tremaining: 6m 37s\n",
      "100:\tlearn: 0.0009965\ttotal: 3.58s\tremaining: 1m 7s\n",
      "200:\tlearn: 0.0009665\ttotal: 7.11s\tremaining: 1m 3s\n",
      "300:\tlearn: 0.0009414\ttotal: 10.6s\tremaining: 59.8s\n",
      "400:\tlearn: 0.0009162\ttotal: 14.3s\tremaining: 57.1s\n",
      "500:\tlearn: 0.0008936\ttotal: 18.8s\tremaining: 56.2s\n",
      "600:\tlearn: 0.0008715\ttotal: 24.4s\tremaining: 56.9s\n",
      "700:\tlearn: 0.0008499\ttotal: 28.5s\tremaining: 52.9s\n",
      "800:\tlearn: 0.0008302\ttotal: 32.5s\tremaining: 48.7s\n",
      "900:\tlearn: 0.0008116\ttotal: 37.7s\tremaining: 45.9s\n",
      "1000:\tlearn: 0.0007945\ttotal: 41.6s\tremaining: 41.5s\n",
      "1100:\tlearn: 0.0007775\ttotal: 45.6s\tremaining: 37.2s\n",
      "1200:\tlearn: 0.0007614\ttotal: 49.9s\tremaining: 33.2s\n",
      "1300:\tlearn: 0.0007458\ttotal: 54.5s\tremaining: 29.3s\n",
      "1400:\tlearn: 0.0007316\ttotal: 58s\tremaining: 24.8s\n",
      "1500:\tlearn: 0.0007174\ttotal: 1m 2s\tremaining: 20.7s\n",
      "1600:\tlearn: 0.0007034\ttotal: 1m 5s\tremaining: 16.3s\n",
      "1700:\tlearn: 0.0006904\ttotal: 1m 9s\tremaining: 12.3s\n",
      "1800:\tlearn: 0.0006774\ttotal: 1m 14s\tremaining: 8.23s\n",
      "1900:\tlearn: 0.0006652\ttotal: 1m 18s\tremaining: 4.09s\n",
      "1999:\tlearn: 0.0006531\ttotal: 1m 23s\tremaining: 0us\n"
     ]
    }
   ],
   "source": [
    "cbr.train_union(\n",
    "    X_train=preproc.get_data(\n",
    "        name='X_train',\n",
    "        torch_tensor=False,\n",
    "        to_device=False\n",
    "    ),\n",
    "    y_train=preproc.get_data(\n",
    "        name='y_train',\n",
    "        torch_tensor=False,\n",
    "        to_device=False\n",
    "    ),\n",
    "    train_horizon=30,\n",
    "    row_ind=0,\n",
    ")"
   ]
  },
  {
   "cell_type": "code",
   "execution_count": 17,
   "metadata": {
    "ExecuteTime": {
     "end_time": "2020-03-29T21:55:24.793640Z",
     "start_time": "2020-03-29T21:55:24.562819Z"
    },
    "colab": {
     "base_uri": "https://localhost:8080/",
     "height": 357
    },
    "colab_type": "code",
    "id": "ttwb4likbpOk",
    "outputId": "934deada-ad51-433c-f43d-e58d2ea05411"
   },
   "outputs": [
    {
     "name": "stdout",
     "output_type": "stream",
     "text": [
      "[array([-4.81978163e-05,  1.00233167e-03, -6.36232438e-04, ...,\n",
      "        6.01126701e-05, -2.37696379e-04,  1.83667886e-04])]\n",
      "[[ 1.88946679e-03]\n",
      " [ 1.88590343e-03]\n",
      " [ 3.53211283e-04]\n",
      " ...\n",
      " [-7.72668152e-05]\n",
      " [ 8.58184992e-04]\n",
      " [ 8.57449141e-04]]\n",
      "[array([-4.81978163e-05,  1.00233167e-03, -6.36232438e-04, ...,\n",
      "        6.01126701e-05, -2.37696379e-04,  1.83667886e-04])]\n",
      "==================\n",
      "[[-4.81978163e-05]\n",
      " [ 1.00233167e-03]\n",
      " [-6.36232438e-04]\n",
      " ...\n",
      " [ 6.01126701e-05]\n",
      " [-2.37696379e-04]\n",
      " [ 1.83667886e-04]]\n",
      "(5000, 1)\n"
     ]
    }
   ],
   "source": [
    "pred, gt = cbr.pred_union(\n",
    "    X_data=preproc.get_data(\n",
    "        name='X_val',\n",
    "        torch_tensor=False,\n",
    "        to_device=False\n",
    "    ),\n",
    "    y_data=preproc.get_data(\n",
    "        name='y_val',\n",
    "        torch_tensor=False,\n",
    "        to_device=False\n",
    "    ),\n",
    "    horizon_pred_out=1,\n",
    ")"
   ]
  },
  {
   "cell_type": "markdown",
   "metadata": {
    "colab_type": "text",
    "id": "U39ZpaVHgFD5"
   },
   "source": [
    "Попробуем посмотреть на предсказания"
   ]
  },
  {
   "cell_type": "code",
   "execution_count": 18,
   "metadata": {
    "ExecuteTime": {
     "end_time": "2020-03-29T21:56:21.923987Z",
     "start_time": "2020-03-29T21:56:21.916197Z"
    },
    "colab": {},
    "colab_type": "code",
    "id": "-eB3rcrNb-4x"
   },
   "outputs": [],
   "source": [
    "predictions = np.exp(np.concatenate(([[np.log(preproc.raw_dataset[preproc.train_size, 0])]], pred)).cumsum(axis=0))"
   ]
  },
  {
   "cell_type": "code",
   "execution_count": 19,
   "metadata": {
    "ExecuteTime": {
     "end_time": "2020-03-29T21:56:22.782314Z",
     "start_time": "2020-03-29T21:56:22.759841Z"
    },
    "colab": {},
    "colab_type": "code",
    "id": "SKzCqUbCcXIH"
   },
   "outputs": [],
   "source": [
    "test = np.exp(np.concatenate(([[np.log(preproc.raw_dataset[preproc.train_size, 0])]], gt)).cumsum(axis=0))"
   ]
  },
  {
   "cell_type": "code",
   "execution_count": 20,
   "metadata": {
    "ExecuteTime": {
     "end_time": "2020-03-29T21:56:24.147387Z",
     "start_time": "2020-03-29T21:56:23.566827Z"
    },
    "colab": {
     "base_uri": "https://localhost:8080/",
     "height": 592
    },
    "colab_type": "code",
    "id": "sGzrJWyUcXgN",
    "outputId": "79d3f763-09fc-41e1-e957-77bcb6d79971"
   },
   "outputs": [
    {
     "data": {
      "image/png": "[encoded data removed]",
      "text/plain": [
       "<Figure size 1080x720 with 1 Axes>"
      ]
     },
     "metadata": {
      "needs_background": "light"
     },
     "output_type": "display_data"
    }
   ],
   "source": [
    "plt.figure(figsize=(15, 10))\n",
    "plt.plot(test[:500], label='test')\n",
    "plt.plot(predictions[:500], label='predictions')\n",
    "plt.legend()\n",
    "plt.show()"
   ]
  },
  {
   "cell_type": "markdown",
   "metadata": {
    "colab_type": "text",
    "id": "XM-hHh8AguzV"
   },
   "source": [
    "Псомотрим на метркии"
   ]
  },
  {
   "cell_type": "code",
   "execution_count": 21,
   "metadata": {
    "ExecuteTime": {
     "end_time": "2020-03-29T21:56:26.207145Z",
     "start_time": "2020-03-29T21:56:26.180339Z"
    },
    "colab": {
     "base_uri": "https://localhost:8080/",
     "height": 34
    },
    "colab_type": "code",
    "id": "8TJDYEaagmHW",
    "outputId": "ca507b75-4a3f-446e-883d-ba689cb6476a"
   },
   "outputs": [
    {
     "data": {
      "text/plain": [
       "0.6576020620888654"
      ]
     },
     "execution_count": 21,
     "metadata": {},
     "output_type": "execute_result"
    }
   ],
   "source": [
    "root_mean_squared_error(\n",
    "    test[:500],\n",
    "    predictions[:500]\n",
    ")"
   ]
  },
  {
   "cell_type": "code",
   "execution_count": 22,
   "metadata": {
    "ExecuteTime": {
     "end_time": "2020-03-29T21:56:27.170319Z",
     "start_time": "2020-03-29T21:56:27.152619Z"
    },
    "colab": {
     "base_uri": "https://localhost:8080/",
     "height": 34
    },
    "colab_type": "code",
    "id": "6s-8eYlOgrir",
    "outputId": "26a21951-d3ea-4892-81cd-252c7bd96065"
   },
   "outputs": [
    {
     "data": {
      "text/plain": [
       "1.043657037633004"
      ]
     },
     "execution_count": 22,
     "metadata": {},
     "output_type": "execute_result"
    }
   ],
   "source": [
    "mean_absolute_percentage_error(\n",
    "    test[:500],\n",
    "    predictions[:500]\n",
    ")"
   ]
  },
  {
   "cell_type": "markdown",
   "metadata": {
    "colab_type": "text",
    "id": "IyDlISprgxSE"
   },
   "source": [
    "Как видим, преобразование Бокса-Кокса и дифференцирование позволило нам сделать адекватное предсказание."
   ]
  }
 ],
 "metadata": {
  "accelerator": "GPU",
  "colab": {
   "collapsed_sections": [],
   "name": "catboost_boxcox.ipynb",
   "provenance": []
  },
  "kernelspec": {
   "display_name": "Python 3",
   "language": "python",
   "name": "python3"
  },
  "language_info": {
   "codemirror_mode": {
    "name": "ipython",
    "version": 3
   },
   "file_extension": ".py",
   "mimetype": "text/x-python",
   "name": "python",
   "nbconvert_exporter": "python",
   "pygments_lexer": "ipython3",
   "version": "3.7.6"
  },
  "varInspector": {
   "cols": {
    "lenName": 16,
    "lenType": 16,
    "lenVar": 40
   },
   "kernels_config": {
    "python": {
     "delete_cmd_postfix": "",
     "delete_cmd_prefix": "del ",
     "library": "var_list.py",
     "varRefreshCmd": "print(var_dic_list())"
    },
    "r": {
     "delete_cmd_postfix": ") ",
     "delete_cmd_prefix": "rm(",
     "library": "var_list.r",
     "varRefreshCmd": "cat(var_dic_list()) "
    }
   },
   "types_to_exclude": [
    "module",
    "function",
    "builtin_function_or_method",
    "instance",
    "_Feature"
   ],
   "window_display": false
  }
 },
 "nbformat": 4,
 "nbformat_minor": 1
}
