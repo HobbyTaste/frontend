{
 "cells": [
  {
   "cell_type": "code",
   "execution_count": 1,
   "metadata": {},
   "outputs": [],
   "source": [
    "import pandas as pd\n",
    "import os\n",
    "import numpy as np\n",
    "\n",
    "import yandex_search\n",
    "from googlesearch import search"
   ]
  },
  {
   "cell_type": "markdown",
   "metadata": {},
   "source": [
    "Создадим список категорий:"
   ]
  },
  {
   "cell_type": "code",
   "execution_count": 2,
   "metadata": {},
   "outputs": [],
   "source": [
    "names = ['Рисование',\n",
    "'Музыкальная школа',\n",
    "'Большой теннис',\n",
    "'Настольный теннис',\n",
    "'Хоккей',\n",
    "'Волейбол',\n",
    "'Футбол',\n",
    "'Водное поло',\n",
    "'Регби',\n",
    "'Баскетбол',\n",
    "'Мини-футбол',\n",
    "'Бейсбол',\n",
    "'Софтбол',\n",
    "'Бокс',\n",
    "'Борьба',\n",
    "'Самбо',\n",
    "'Вольная борьба',\n",
    "'Греко-римская борьба',\n",
    "'Дзюдо',\n",
    "'Восточные единоборства',\n",
    "'Фехтование',\n",
    "'Плавание',\n",
    "'Шорт-трек',\n",
    "'Тяжёлая атлетика',\n",
    "'ОФП',\n",
    "'Лёгкая атлетика',\n",
    "'Пыржки на батуте',\n",
    "'Спортивная гимнастика',\n",
    "'Художественная гимнастика',\n",
    "'Спорт глухих',\n",
    "'Лыжные гонки',\n",
    "'Аквааэробика',\n",
    "'Прыжки на батуте',\n",
    "'Пыжки в воду',\n",
    "'Современное пятиборье',\n",
    "'Стрельба из лука',\n",
    "'Парусный спорт',\n",
    "'Конный спорт',\n",
    "'Армреслинг',\n",
    "'Велосипедный спорт',\n",
    "'Гребля',\n",
    "'Пулевая стрельба',\n",
    "'Бадминтон',\n",
    "'Фигурное катание',\n",
    "'Прыжки в воду',\n",
    "'Синхронное плавание',\n",
    "'Современные танцы',\n",
    "'Бальные танцы',\n",
    "'Балет',\n",
    "'Хастл',\n",
    "'Шахматы']"
   ]
  },
  {
   "cell_type": "markdown",
   "metadata": {},
   "source": [
    "Сохраним категории в отдельный файл для удобства."
   ]
  },
  {
   "cell_type": "code",
   "execution_count": 5,
   "metadata": {},
   "outputs": [],
   "source": [
    "categories = pd.DataFrame(names, columns=['categ'])\n",
    "\n",
    "categories.to_csv('categories', index=False)"
   ]
  },
  {
   "cell_type": "code",
   "execution_count": 6,
   "metadata": {},
   "outputs": [
    {
     "data": {
      "text/html": [
       "<div>\n",
       "<style scoped>\n",
       "    .dataframe tbody tr th:only-of-type {\n",
       "        vertical-align: middle;\n",
       "    }\n",
       "\n",
       "    .dataframe tbody tr th {\n",
       "        vertical-align: top;\n",
       "    }\n",
       "\n",
       "    .dataframe thead th {\n",
       "        text-align: right;\n",
       "    }\n",
       "</style>\n",
       "<table border=\"1\" class=\"dataframe\">\n",
       "  <thead>\n",
       "    <tr style=\"text-align: right;\">\n",
       "      <th></th>\n",
       "      <th>categ</th>\n",
       "    </tr>\n",
       "  </thead>\n",
       "  <tbody>\n",
       "    <tr>\n",
       "      <th>0</th>\n",
       "      <td>Рисование</td>\n",
       "    </tr>\n",
       "    <tr>\n",
       "      <th>1</th>\n",
       "      <td>Музыкальная школа</td>\n",
       "    </tr>\n",
       "    <tr>\n",
       "      <th>2</th>\n",
       "      <td>Большой теннис</td>\n",
       "    </tr>\n",
       "    <tr>\n",
       "      <th>3</th>\n",
       "      <td>Настольный теннис</td>\n",
       "    </tr>\n",
       "    <tr>\n",
       "      <th>4</th>\n",
       "      <td>Хоккей</td>\n",
       "    </tr>\n",
       "  </tbody>\n",
       "</table>\n",
       "</div>"
      ],
      "text/plain": [
       "               categ\n",
       "0          Рисование\n",
       "1  Музыкальная школа\n",
       "2     Большой теннис\n",
       "3  Настольный теннис\n",
       "4             Хоккей"
      ]
     },
     "execution_count": 6,
     "metadata": {},
     "output_type": "execute_result"
    }
   ],
   "source": [
    "categories.head()"
   ]
  },
  {
   "cell_type": "code",
   "execution_count": 8,
   "metadata": {},
   "outputs": [],
   "source": [
    "categories.to_csv('categories.csv', index=False)"
   ]
  },
  {
   "cell_type": "markdown",
   "metadata": {},
   "source": [
    " Хочется с высокой точностью для данных категорий находить сайты компаний, которые им соответствуют.\n",
    " \n",
    " С помощью библитотеки googlesearch попробуем по названиям категорий и некоторым ключевым словам искать сайты просто с использованием поисковой строки."
   ]
  },
  {
   "cell_type": "markdown",
   "metadata": {},
   "source": [
    "Для категории `Рисование`:"
   ]
  },
  {
   "cell_type": "code",
   "execution_count": 23,
   "metadata": {},
   "outputs": [],
   "source": [
    "def get_urls(tag, n, language):\n",
    "    urls = [url for url in search(tag, stop=n, lang=language)][:n] \n",
    "    return urls"
   ]
  },
  {
   "cell_type": "code",
   "execution_count": 24,
   "metadata": {},
   "outputs": [],
   "source": [
    "urls = get_urls(names[0] + 'школа', 50 , 'ru')"
   ]
  },
  {
   "cell_type": "code",
   "execution_count": 25,
   "metadata": {},
   "outputs": [
    {
     "data": {
      "text/plain": [
       "['http://www.risuem.ru/',\n",
       " 'https://www.perottischool.ru/',\n",
       " 'https://kalachevaschool.ru/',\n",
       " 'https://aquamarin-school.ru/',\n",
       " 'https://naydisebya.ru/',\n",
       " 'https://www.izocenter.ru/',\n",
       " 'https://vk.com/kartinamaslomptz',\n",
       " 'https://risuemdoma.com/',\n",
       " 'https://artmir.ru/',\n",
       " 'http://kraski-zhizni.com/',\n",
       " 'https://www.soyoupost.com/tags/%D1%80%D0%B8%D1%81%D0%BE%D0%B2%D0%B0%D0%BD%D0%B8%D0%B5%D1%88%D0%BA%D0%BE%D0%BB%D0%B0',\n",
       " 'https://br.pinterest.com/pin/109212359702078926/',\n",
       " 'https://yandex.ru/maps/org/risovaniye/165662654035/',\n",
       " 'https://www.korablik.ru/catalog/risovanie/shkola_budushchego/',\n",
       " 'https://www.pinterest.ru/lapkovska13/%D1%80%D0%B8%D1%81%D0%BE%D0%B2%D0%B0%D0%BD%D0%B8%D0%B5%D1%88%D0%BA%D0%BE%D0%BB%D0%B0/',\n",
       " 'https://kalachevaschool.ru/%D1%80%D0%B8%D1%81%D0%BE%D0%B2%D0%B0%D0%BD%D0%B8%D0%B5/%D1%81%D0%BA%D0%B5%D1%82%D1%87',\n",
       " 'https://www.picuki.com/tag/%D1%80%D0%B0%D0%B7%D0%B2%D0%B8%D1%82%D0%B8%D0%B5%D1%82%D0%B2%D0%BE%D1%80%D1%87%D0%B5%D1%81%D1%81%D0%BA%D0%BE%D0%B3%D0%BE',\n",
       " 'https://www.ebay.com/itm/MALL-original-art-drawing-school-girl-shardula-May-Ann-Licudine-Totoro-/173876006145?_ul=RU',\n",
       " 'https://www.farpost.ru/vladivostok/service/education/art/trening-pravopolusharnoe-risovanie-shkola-kreativa-moskva-19863627.html',\n",
       " 'https://www.pinterest.at/pin/21321798218930815/']"
      ]
     },
     "execution_count": 25,
     "metadata": {},
     "output_type": "execute_result"
    }
   ],
   "source": [
    "urls[:20]"
   ]
  },
  {
   "cell_type": "markdown",
   "metadata": {},
   "source": [
    "Можно видеть, что некоторые найденные адреса содержат аггрегаторы, поисковики и т.д.\n",
    "\n",
    "Попробуем их фильтровать с использованием стоп-слов."
   ]
  },
  {
   "cell_type": "code",
   "execution_count": 26,
   "metadata": {},
   "outputs": [],
   "source": [
    "stop_words = ['yandex', 'twitter', 'youtube',\n",
    "              'zoon', 'zoom', 'news', 'vk', 'facebook',\n",
    "              'instagram', 'tripadvisor', 'fb', 'avito',\n",
    "              'pikabu', 'pinterest', 'ebay']"
   ]
  },
  {
   "cell_type": "code",
   "execution_count": 38,
   "metadata": {},
   "outputs": [
    {
     "data": {
      "text/plain": [
       "['http://www.risuem.ru/',\n",
       " 'https://www.perottischool.ru/',\n",
       " 'https://kalachevaschool.ru/',\n",
       " 'https://aquamarin-school.ru/',\n",
       " 'https://naydisebya.ru/',\n",
       " 'https://www.izocenter.ru/',\n",
       " 'https://risuemdoma.com/',\n",
       " 'https://artmir.ru/',\n",
       " 'http://kraski-zhizni.com/',\n",
       " 'https://www.soyoupost.com/tags/%D1%80%D0%B8%D1%81%D0%BE%D0%B2%D0%B0%D0%BD%D0%B8%D0%B5%D1%88%D0%BA%D0%BE%D0%BB%D0%B0',\n",
       " 'https://www.korablik.ru/catalog/risovanie/shkola_budushchego/',\n",
       " 'https://kalachevaschool.ru/%D1%80%D0%B8%D1%81%D0%BE%D0%B2%D0%B0%D0%BD%D0%B8%D0%B5/%D1%81%D0%BA%D0%B5%D1%82%D1%87',\n",
       " 'https://www.picuki.com/tag/%D1%80%D0%B0%D0%B7%D0%B2%D0%B8%D1%82%D0%B8%D0%B5%D1%82%D0%B2%D0%BE%D1%80%D1%87%D0%B5%D1%81%D1%81%D0%BA%D0%BE%D0%B3%D0%BE',\n",
       " 'https://www.farpost.ru/vladivostok/service/education/art/trening-pravopolusharnoe-risovanie-shkola-kreativa-moskva-19863627.html',\n",
       " 'https://aliexpress.ru/i/4000785604381.html?ws_ab_test=searchweb0_0,searchweb201602_0,searchweb201603_0,ppcSwitch_0&algo_pvid=cca90fae-7ba1-41ef-9024-ec751387ada2&algo_expid=cca90fae-7ba1-41ef-9024-ec751387ada2-8',\n",
       " 'https://pixabay.com/ru/illustrations/%D0%B5%D0%B4%D0%B8%D0%BD%D0%BE%D1%80%D0%BE%D0%B3-%D1%80%D0%B8%D1%81%D0%BE%D0%B2%D0%B0%D1%82%D1%8C-%D1%80%D0%B8%D1%81%D0%BE%D0%B2%D0%B0%D0%BD%D0%B8%D0%B5-%D1%88%D0%BA%D0%BE%D0%BB%D0%B0-1607385/',\n",
       " 'https://www.olx.ua/obyavlenie/risovanie-shkola-risovaniya-IDB9kWy.html',\n",
       " 'https://pixnio.com/ru/media/ru-2169196',\n",
       " 'https://www.osd.ru/osdforum.asp?fid=13&tid=213944',\n",
       " 'https://cosmo.su/ricovanie/']"
      ]
     },
     "execution_count": 38,
     "metadata": {},
     "output_type": "execute_result"
    }
   ],
   "source": [
    "new_urls = []\n",
    "\n",
    "for url in urls:\n",
    "    count = 0\n",
    "    for stop in stop_words:\n",
    "        if stop in url:\n",
    "            count += 1\n",
    "    if count == 0:\n",
    "        new_urls.append(url)\n",
    "            \n",
    "new_urls[:20]"
   ]
  },
  {
   "cell_type": "markdown",
   "metadata": {},
   "source": [
    "Также, можно заметить, что ссылки, которые ведут на поисковики или аггрегаторы обычно намного длиннее валидных ссылок, т.к. валидные ссылки скорее ведут в корень сайта.\n",
    "\n",
    "Отсортируем список по длине строк и возьмём его голову."
   ]
  },
  {
   "cell_type": "code",
   "execution_count": 45,
   "metadata": {},
   "outputs": [
    {
     "data": {
      "text/plain": [
       "['https://artmir.ru/',\n",
       " 'http://www.risuem.ru/',\n",
       " 'https://naydisebya.ru/',\n",
       " 'https://risuemdoma.com/',\n",
       " 'http://kraski-zhizni.com/',\n",
       " 'https://www.izocenter.ru/',\n",
       " 'https://cosmo.su/ricovanie/',\n",
       " 'https://kalachevaschool.ru/',\n",
       " 'https://aquamarin-school.ru/',\n",
       " 'https://risuem34.nethouse.ru/',\n",
       " 'https://www.perottischool.ru/',\n",
       " 'https://pxhere.com/ru/photo/1057578',\n",
       " 'https://pixnio.com/ru/media/ru-2169196',\n",
       " 'https://www.pngwing.com/ru/free-png-yxvnc',\n",
       " 'https://www.hotpng.com/free-png-clipart-ocamu',\n",
       " 'https://sad3narovlia.schools.by/m/photo/6557576',\n",
       " 'https://www.clubznaika.ru/shkola-yunogo-blogera',\n",
       " 'https://m.ru.aliexpress.com/item/32790662219.html',\n",
       " 'https://www.osd.ru/osdforum.asp?fid=13&tid=213944',\n",
       " 'https://www.spr.ru/moskva/dlya-sebya-1154577.html']"
      ]
     },
     "execution_count": 45,
     "metadata": {},
     "output_type": "execute_result"
    }
   ],
   "source": [
    "new_urls.sort(key=len)\n",
    "\n",
    "new_urls[:20]"
   ]
  },
  {
   "cell_type": "markdown",
   "metadata": {},
   "source": [
    "Будем теперь использовать api яндекс поиска для схожей задачи:"
   ]
  },
  {
   "cell_type": "code",
   "execution_count": 33,
   "metadata": {},
   "outputs": [],
   "source": [
    "public_key = '6b6ccb21-3857-408e-a1b3-4531d302c644'\n",
    "public_key_1 = '03.44217698:b4ed25b3b69d245384d3bc8fab7b907a'"
   ]
  },
  {
   "cell_type": "code",
   "execution_count": 40,
   "metadata": {},
   "outputs": [],
   "source": [
    "yandex = yandex_search.Yandex(api_user='polgrisha', api_key=public_key_1)"
   ]
  },
  {
   "cell_type": "code",
   "execution_count": 61,
   "metadata": {},
   "outputs": [
    {
     "name": "stdout",
     "output_type": "stream",
     "text": [
      "[]\n"
     ]
    }
   ],
   "source": [
    "from pyyaxml.search import YaSearch\n",
    "y = YaSearch('pola', public_key)\n",
    "results = y.search('\"python\"', page=5)\n",
    "\n",
    "print(results.items)\n",
    "for result in results.items:\n",
    "    print(result.url)"
   ]
  }
 ],
 "metadata": {
  "kernelspec": {
   "display_name": "Python [conda env:stats]",
   "language": "python",
   "name": "conda-env-stats-py"
  },
  "language_info": {
   "codemirror_mode": {
    "name": "ipython",
    "version": 3
   },
   "file_extension": ".py",
   "mimetype": "text/x-python",
   "name": "python",
   "nbconvert_exporter": "python",
   "pygments_lexer": "ipython3",
   "version": "3.7.6"
  }
 },
 "nbformat": 4,
 "nbformat_minor": 4
}
